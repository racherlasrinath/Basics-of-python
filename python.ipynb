{
  "nbformat": 4,
  "nbformat_minor": 0,
  "metadata": {
    "colab": {
      "provenance": []
    },
    "kernelspec": {
      "name": "python3",
      "display_name": "Python 3"
    },
    "language_info": {
      "name": "python"
    }
  },
  "cells": [
    {
      "cell_type": "markdown",
      "source": [
        "#Python Class 1 - command to execute is shift+enter"
      ],
      "metadata": {
        "id": "6tzbQNaTzYp7"
      }
    },
    {
      "cell_type": "markdown",
      "source": [
        "#Comments in Python"
      ],
      "metadata": {
        "id": "KuOM8l8vzN4R"
      }
    },
    {
      "cell_type": "code",
      "source": [
        "#Comments can be used to explain Python code, to make the code more readable, to prevent execution when testing code.\n",
        "\n",
        "\n",
        "# Comment means an non executable code\n",
        "\n",
        "# Single line comment\n",
        "\n",
        "'''\n",
        "MUltiline comments\n",
        "'''\n"
      ],
      "metadata": {
        "colab": {
          "base_uri": "https://localhost:8080/",
          "height": 35
        },
        "id": "vMHNqh-Y8bI1",
        "outputId": "7de1fd9e-a4af-4b7f-f67e-a0466962fa4b"
      },
      "execution_count": 121,
      "outputs": [
        {
          "output_type": "execute_result",
          "data": {
            "text/plain": [
              "'\\nMUltiline comments\\n'"
            ],
            "application/vnd.google.colaboratory.intrinsic+json": {
              "type": "string"
            }
          },
          "metadata": {},
          "execution_count": 121
        }
      ]
    },
    {
      "cell_type": "markdown",
      "source": [
        "#print functions in python"
      ],
      "metadata": {
        "id": "nMKEwNFgr63V"
      }
    },
    {
      "cell_type": "code",
      "source": [
        "\n",
        "#keywords are group of words that have a specific functionality\n",
        "#Print statement is used to print any values that we have given as a input\n",
        "#In the below example We are priting a string Hello world where tha data that present inside the double braces its going to be printed as they are!!\n",
        "print (\"Hello World\")"
      ],
      "metadata": {
        "colab": {
          "base_uri": "https://localhost:8080/"
        },
        "id": "9cvKyTyfG8uu",
        "outputId": "ef5aa652-6bb9-4021-8b5e-8db252451540"
      },
      "execution_count": 122,
      "outputs": [
        {
          "output_type": "stream",
          "name": "stdout",
          "text": [
            "Hello World\n"
          ]
        }
      ]
    },
    {
      "cell_type": "code",
      "source": [
        "# to check verion of python\n",
        "!python --version"
      ],
      "metadata": {
        "colab": {
          "base_uri": "https://localhost:8080/"
        },
        "outputId": "16c48c6f-6db5-4e55-d896-f76d199217fc",
        "id": "AX6X9D6os1IM"
      },
      "execution_count": 123,
      "outputs": [
        {
          "output_type": "stream",
          "name": "stdout",
          "text": [
            "Python 3.10.12\n"
          ]
        }
      ]
    },
    {
      "cell_type": "code",
      "source": [
        "'''\n",
        "Python is a interpretor.\n",
        "\n",
        "code -> Compiler/interpretor(Syntax check) -> MachineCode\n",
        "\n",
        "Compiler : Tries to execute the code at once\n",
        "Interpretor : tries to compile the code line by line\n",
        "'''"
      ],
      "metadata": {
        "id": "KJTTHbqKtI7D",
        "colab": {
          "base_uri": "https://localhost:8080/",
          "height": 53
        },
        "outputId": "d2535058-57cd-4625-c421-5b949e974501"
      },
      "execution_count": 124,
      "outputs": [
        {
          "output_type": "execute_result",
          "data": {
            "text/plain": [
              "'\\nPython is a interpretor.\\n\\ncode -> Compiler/interpretor(Syntax check) -> MachineCode\\n\\nCompiler : Tries to execute the code at once\\nInterpretor : tries to compile the code line by line\\n'"
            ],
            "application/vnd.google.colaboratory.intrinsic+json": {
              "type": "string"
            }
          },
          "metadata": {},
          "execution_count": 124
        }
      ]
    },
    {
      "cell_type": "markdown",
      "source": [
        "#INDENTATION"
      ],
      "metadata": {
        "id": "J52SrnY-tL0G"
      }
    },
    {
      "cell_type": "code",
      "source": [
        "#refers to adding white space before a statement to a particular block of code\n",
        "#It is a way of telling a Python interpreter that the group of statements belongs to a particular block of code\n",
        "if 5 > 2:\n",
        "  print ('Five is greater than two')\n",
        "#If is a conditional loop which it checks the condition of the given data!\n",
        "#we are checking whether 5 is greater than 2 if it is true then it is going to print the data that we are represented in print statement\n",
        "#else it's going to be exited from the conditional loop!!"
      ],
      "metadata": {
        "colab": {
          "base_uri": "https://localhost:8080/"
        },
        "id": "4St-DrbytWdA",
        "outputId": "525e86db-e647-498e-ddc6-1a7f3d850c03"
      },
      "execution_count": 125,
      "outputs": [
        {
          "output_type": "stream",
          "name": "stdout",
          "text": [
            "Five is greater than two\n"
          ]
        }
      ]
    },
    {
      "cell_type": "code",
      "source": [
        "if 5 > 2:\n",
        "  print ('hello')\n",
        "  if 3 < 7:\n",
        "    print ('hi')\n",
        "    print ('1')\n",
        "\n",
        "print ('Five is greater than two')\n",
        "#In this also it is same as we seen before but here there are two if conditions where we are comapring two conditions\n",
        "#if the first if condition is true then it moves to second if condition because the second one is present inside the first one\n",
        "#And also the last print statment it doesnt worry about anything if the condition is false or true it executes because it is outside of if statements!!"
      ],
      "metadata": {
        "colab": {
          "base_uri": "https://localhost:8080/"
        },
        "id": "xP3MuNTuthmE",
        "outputId": "8a679739-255c-498e-d5fc-51e15652ab11"
      },
      "execution_count": 126,
      "outputs": [
        {
          "output_type": "stream",
          "name": "stdout",
          "text": [
            "hello\n",
            "hi\n",
            "1\n",
            "Five is greater than two\n"
          ]
        }
      ]
    },
    {
      "cell_type": "code",
      "source": [
        "# This is a python class\n",
        "\n",
        "'''\n",
        "This is python classs\n",
        "'''"
      ],
      "metadata": {
        "colab": {
          "base_uri": "https://localhost:8080/",
          "height": 35
        },
        "id": "p428ao4Vtk0c",
        "outputId": "25a83401-f934-41dc-ea68-8bd399314f24"
      },
      "execution_count": 127,
      "outputs": [
        {
          "output_type": "execute_result",
          "data": {
            "text/plain": [
              "'\\nThis is python classs\\n'"
            ],
            "application/vnd.google.colaboratory.intrinsic+json": {
              "type": "string"
            }
          },
          "metadata": {},
          "execution_count": 127
        }
      ]
    },
    {
      "cell_type": "markdown",
      "source": [
        "#VARIABLES"
      ],
      "metadata": {
        "id": "w3h0FjDItzv5"
      }
    },
    {
      "cell_type": "code",
      "source": [
        "#Variables are containers for storing data values\n",
        "#String variables can be declared either by using single or double quotes\n",
        "#variables are something that tend to change\n",
        "x = 5\n",
        "y = \"King\" # all the words or sentences should be in \"\"\n",
        "print (x)\n",
        "print (y)"
      ],
      "metadata": {
        "colab": {
          "base_uri": "https://localhost:8080/"
        },
        "id": "fXMbWeQIt9Vj",
        "outputId": "bd02a06c-a775-401d-895b-e9f7498db097"
      },
      "execution_count": 128,
      "outputs": [
        {
          "output_type": "stream",
          "name": "stdout",
          "text": [
            "5\n",
            "King\n"
          ]
        }
      ]
    },
    {
      "cell_type": "code",
      "source": [
        "#variable values can be replaced\n",
        "x = 5\n",
        "print (x)\n",
        "x = 'Ram'\n",
        "print (x)"
      ],
      "metadata": {
        "colab": {
          "base_uri": "https://localhost:8080/"
        },
        "id": "4LV7fjm2uQvl",
        "outputId": "c396e0a7-3919-41e2-837a-14f9f5780c20"
      },
      "execution_count": 129,
      "outputs": [
        {
          "output_type": "stream",
          "name": "stdout",
          "text": [
            "5\n",
            "Ram\n"
          ]
        }
      ]
    },
    {
      "cell_type": "code",
      "source": [
        "x = 10\n",
        "if x > 5:\n",
        "  print('Hello world')"
      ],
      "metadata": {
        "colab": {
          "base_uri": "https://localhost:8080/"
        },
        "id": "ePSStZy_uV5R",
        "outputId": "4be5a8df-d8ed-48f4-af98-b1a7509b618e"
      },
      "execution_count": 130,
      "outputs": [
        {
          "output_type": "stream",
          "name": "stdout",
          "text": [
            "Hello world\n"
          ]
        }
      ]
    },
    {
      "cell_type": "markdown",
      "source": [
        "#CASTING"
      ],
      "metadata": {
        "id": "uazq3gJKumwQ"
      }
    },
    {
      "cell_type": "code",
      "source": [
        "#converts one datatype into another datatype\n",
        "x = 3\n",
        "print (type(x)) # type is the keyword to find the datatype in python"
      ],
      "metadata": {
        "colab": {
          "base_uri": "https://localhost:8080/"
        },
        "id": "RpycoHxgursm",
        "outputId": "49c98f80-c757-4c0b-9277-32599a0c7fdd"
      },
      "execution_count": 131,
      "outputs": [
        {
          "output_type": "stream",
          "name": "stdout",
          "text": [
            "<class 'int'>\n"
          ]
        }
      ]
    },
    {
      "cell_type": "code",
      "source": [
        "x = \"John\"\n",
        "x = 'John'\n",
        "# python '' or \"\" mean the same"
      ],
      "metadata": {
        "id": "U7UKwhjCvKdD"
      },
      "execution_count": 132,
      "outputs": []
    },
    {
      "cell_type": "code",
      "source": [
        "x = 'john'\n",
        "if x == 'john':\n",
        "  print ('My name is john')"
      ],
      "metadata": {
        "colab": {
          "base_uri": "https://localhost:8080/"
        },
        "id": "i2B3sOmxvOwG",
        "outputId": "12af2c39-c39a-44ca-91ce-eb4f2621d6ae"
      },
      "execution_count": 133,
      "outputs": [
        {
          "output_type": "stream",
          "name": "stdout",
          "text": [
            "My name is john\n"
          ]
        }
      ]
    },
    {
      "cell_type": "code",
      "source": [
        "# Formatting\n",
        "\n",
        "x = 'john'\n",
        "if x == 'john':\n",
        "  print (f'My name is {x}')"
      ],
      "metadata": {
        "colab": {
          "base_uri": "https://localhost:8080/"
        },
        "id": "RjTOY_WPvdCT",
        "outputId": "7300ef16-840f-469c-bb25-ac370bef9ab4"
      },
      "execution_count": 134,
      "outputs": [
        {
          "output_type": "stream",
          "name": "stdout",
          "text": [
            "My name is john\n"
          ]
        }
      ]
    },
    {
      "cell_type": "code",
      "source": [
        "apples = 40\n",
        "oranges = 20\n",
        "\n",
        "print (f'I boughts {apples} apples and {oranges} oranges')"
      ],
      "metadata": {
        "colab": {
          "base_uri": "https://localhost:8080/"
        },
        "id": "b5XBVuS7vwbD",
        "outputId": "b5cfbb51-6940-4ce1-ccf9-4bedfeba00ef"
      },
      "execution_count": 135,
      "outputs": [
        {
          "output_type": "stream",
          "name": "stdout",
          "text": [
            "I boughts 40 apples and 20 oranges\n"
          ]
        }
      ]
    },
    {
      "cell_type": "code",
      "source": [
        "# Restrictions on how variable names are declared\n",
        "'''\n",
        "myvar,my_var,_my_var,myVar,MYVAR,myvar2 -- Legalones\n",
        "\n",
        "2myvar,my-var, my var - Illegal ones\n",
        "'''"
      ],
      "metadata": {
        "id": "VfLl1kH9v2uX",
        "colab": {
          "base_uri": "https://localhost:8080/",
          "height": 35
        },
        "outputId": "791bb897-709f-4327-fb84-f951d475a04d"
      },
      "execution_count": 136,
      "outputs": [
        {
          "output_type": "execute_result",
          "data": {
            "text/plain": [
              "'\\nmyvar,my_var,_my_var,myVar,MYVAR,myvar2 -- Legalones\\n\\n2myvar,my-var, my var - Illegal ones\\n'"
            ],
            "application/vnd.google.colaboratory.intrinsic+json": {
              "type": "string"
            }
          },
          "metadata": {},
          "execution_count": 136
        }
      ]
    },
    {
      "cell_type": "code",
      "source": [
        "x, y, z = 'Orange','Apple','Banana' # Many values to many vaiables\n",
        "\n",
        "print (x)\n",
        "print (y)\n",
        "print (z)"
      ],
      "metadata": {
        "colab": {
          "base_uri": "https://localhost:8080/"
        },
        "id": "p4-RvyQUv7Fy",
        "outputId": "5beb016c-4a5c-4e64-e172-98f5cd75a0cc"
      },
      "execution_count": 137,
      "outputs": [
        {
          "output_type": "stream",
          "name": "stdout",
          "text": [
            "Orange\n",
            "Apple\n",
            "Banana\n"
          ]
        }
      ]
    },
    {
      "cell_type": "code",
      "source": [
        "x = y = z = 'Grapes' #one value to multiple variables\n",
        "\n",
        "print (x)\n",
        "print (y)\n",
        "print (z)"
      ],
      "metadata": {
        "colab": {
          "base_uri": "https://localhost:8080/"
        },
        "id": "Z89Uo0VXwBX8",
        "outputId": "66e3ecb5-b74d-4537-b4e6-15e9930aca52"
      },
      "execution_count": 138,
      "outputs": [
        {
          "output_type": "stream",
          "name": "stdout",
          "text": [
            "Grapes\n",
            "Grapes\n",
            "Grapes\n"
          ]
        }
      ]
    },
    {
      "cell_type": "code",
      "source": [
        "#unpack a collection\n",
        "\n",
        "fruits = ['apple','banana','Mango']\n",
        "x,y,z = fruits\n",
        "print (x)\n",
        "print (y)\n",
        "print (z)"
      ],
      "metadata": {
        "colab": {
          "base_uri": "https://localhost:8080/"
        },
        "id": "1rixeluswF26",
        "outputId": "27ebe868-268a-47df-b6d4-c25f7506f722"
      },
      "execution_count": 139,
      "outputs": [
        {
          "output_type": "stream",
          "name": "stdout",
          "text": [
            "apple\n",
            "banana\n",
            "Mango\n"
          ]
        }
      ]
    },
    {
      "cell_type": "code",
      "source": [
        "# 1. create collection of 4 names and print using format\n",
        "# 2. Create a varibles names with 4 legal and 4 ilegal\n",
        "# 3. Declare same value to 3 vaiables and convert first variable to string, second to float and third to float. print all three variables"
      ],
      "metadata": {
        "id": "QN79qZ3SwNHc"
      },
      "execution_count": 140,
      "outputs": []
    },
    {
      "cell_type": "code",
      "source": [
        "names = ['ram','sita','laxman','john']\n",
        "\n",
        "x,y,z,w = names\n",
        "\n",
        "print (f'The name is {x}')\n",
        "print (f'The name is {y}')\n",
        "print (f'The name is {z}')\n",
        "print (f'The name is {w}')"
      ],
      "metadata": {
        "colab": {
          "base_uri": "https://localhost:8080/"
        },
        "id": "Nj_vb-qiwN_h",
        "outputId": "21c6e557-f879-4ca4-af85-27a80143ab54"
      },
      "execution_count": 141,
      "outputs": [
        {
          "output_type": "stream",
          "name": "stdout",
          "text": [
            "The name is ram\n",
            "The name is sita\n",
            "The name is laxman\n",
            "The name is john\n"
          ]
        }
      ]
    },
    {
      "cell_type": "markdown",
      "source": [
        "#Print function for multiple variables"
      ],
      "metadata": {
        "id": "y3OuoHxlwj3u"
      }
    },
    {
      "cell_type": "code",
      "source": [
        "a = 'United' #string\n",
        "b = 'states' #string\n",
        "c = ' '\n",
        "print (a+b) #+ operator is used to concatenate two strings\n",
        "print (a+c+b)\n",
        "print (f'{a} {b}')"
      ],
      "metadata": {
        "colab": {
          "base_uri": "https://localhost:8080/"
        },
        "id": "DRkPP-KFwqoa",
        "outputId": "5ea3b576-6b9a-4b0a-c51e-9821ec57d3b9"
      },
      "execution_count": 145,
      "outputs": [
        {
          "output_type": "stream",
          "name": "stdout",
          "text": [
            "Unitedstates\n",
            "United states\n",
            "United states\n"
          ]
        }
      ]
    },
    {
      "cell_type": "code",
      "source": [
        "# Question is I bought 4 apples as varibales : Concatenate them\n",
        "\n",
        "x = 'I '\n",
        "y = 'bought '\n",
        "z = '4 '\n",
        "w = 'apples'\n",
        "\n",
        "print (x+y+z+w)"
      ],
      "metadata": {
        "colab": {
          "base_uri": "https://localhost:8080/"
        },
        "id": "wE_QhOncwurl",
        "outputId": "bb924966-0535-42af-a053-36b331d78183"
      },
      "execution_count": 147,
      "outputs": [
        {
          "output_type": "stream",
          "name": "stdout",
          "text": [
            "I bought 4 apples\n"
          ]
        }
      ]
    },
    {
      "cell_type": "markdown",
      "source": [
        "#FUNCTIONS"
      ],
      "metadata": {
        "id": "AHLeSFt5w8q-"
      }
    },
    {
      "cell_type": "code",
      "source": [
        "'''\n",
        "Scenario : Addition of three numbers\n",
        "\n",
        "1,2,3\n",
        "4,5,6\n",
        "7,8,9\n",
        "'''"
      ],
      "metadata": {
        "id": "rIkQ6mt1xAcI",
        "colab": {
          "base_uri": "https://localhost:8080/",
          "height": 35
        },
        "outputId": "8cf1c779-dcb7-4d4b-ef0a-d126de21d91b"
      },
      "execution_count": 148,
      "outputs": [
        {
          "output_type": "execute_result",
          "data": {
            "text/plain": [
              "'\\nScenario : Addition of three numbers\\n\\n1,2,3\\n4,5,6\\n7,8,9\\n'"
            ],
            "application/vnd.google.colaboratory.intrinsic+json": {
              "type": "string"
            }
          },
          "metadata": {},
          "execution_count": 148
        }
      ]
    },
    {
      "cell_type": "code",
      "source": [
        "x = 1\n",
        "y = 2\n",
        "z = 3\n",
        "\n",
        "print (x+y+z)\n",
        "\n",
        "x = 4\n",
        "y = 5\n",
        "z = 6\n",
        "\n",
        "print (x+y+z)\n",
        "\n",
        "x = 7\n",
        "y = 8\n",
        "z = 9\n",
        "\n",
        "print (x+y+z)"
      ],
      "metadata": {
        "colab": {
          "base_uri": "https://localhost:8080/"
        },
        "id": "6Eo69yJbxEPG",
        "outputId": "c3224947-69bd-4217-bd47-bcb42cf24f7c"
      },
      "execution_count": 149,
      "outputs": [
        {
          "output_type": "stream",
          "name": "stdout",
          "text": [
            "6\n",
            "15\n",
            "24\n"
          ]
        }
      ]
    },
    {
      "cell_type": "code",
      "source": [
        "def sum3(x,y,z): # def funcname(arguments) : Function creation\n",
        "  sum = x+y+z\n",
        "  return sum\n",
        "\n",
        "print (sum3(1,2,3)) # function calling\n",
        "print (sum3(4,5,6)) # function calling\n",
        "print (sum3(7,8,9)) # function calling"
      ],
      "metadata": {
        "colab": {
          "base_uri": "https://localhost:8080/"
        },
        "id": "zDrb_RBzxMz2",
        "outputId": "6ade934a-6fed-4d24-e4cc-14037a8a569a"
      },
      "execution_count": 150,
      "outputs": [
        {
          "output_type": "stream",
          "name": "stdout",
          "text": [
            "6\n",
            "15\n",
            "24\n"
          ]
        }
      ]
    },
    {
      "cell_type": "code",
      "source": [
        "# declare a variable with a value awesome and create a function that prints \"Python is awesome\"\n",
        "\n",
        "def func1(a): #varibles that are there in the method are called local variables\n",
        "  x = 'fantastic'\n",
        "  print (f'Python is {a}')\n",
        "\n",
        "x = 'awesome' #varibles that are declared outside the method are called as global variables\n",
        "func1(x)"
      ],
      "metadata": {
        "colab": {
          "base_uri": "https://localhost:8080/"
        },
        "id": "qak9TfPIxRdU",
        "outputId": "bb4ea0cd-c238-44b0-ba20-69443ed96a17"
      },
      "execution_count": 151,
      "outputs": [
        {
          "output_type": "stream",
          "name": "stdout",
          "text": [
            "Python is awesome\n"
          ]
        }
      ]
    },
    {
      "cell_type": "code",
      "source": [
        "variable = \"awesome\"\n",
        "def print_x(m):\n",
        "    print(\"Python is\",m)\n",
        "\n",
        "print_x(variable)"
      ],
      "metadata": {
        "colab": {
          "base_uri": "https://localhost:8080/"
        },
        "id": "y_wwp7gDxVNJ",
        "outputId": "dfc0d958-baa8-4ccb-db66-9ca8b4b8ce5d"
      },
      "execution_count": 152,
      "outputs": [
        {
          "output_type": "stream",
          "name": "stdout",
          "text": [
            "Python is awesome\n"
          ]
        }
      ]
    },
    {
      "cell_type": "code",
      "source": [
        "# python method to find sum and multiplication of three numbers\n",
        "# hint : methodname(2,3,4,'sum')\n",
        "\n",
        "def summul(a,b,c,operation):\n",
        "  if operation == 'sum':\n",
        "    ans = a+b+c\n",
        "\n",
        "  if operation == 'mul':\n",
        "    ans = a*b*c\n",
        "\n",
        "  return ans"
      ],
      "metadata": {
        "id": "Fg_AoHVrxZvC"
      },
      "execution_count": 153,
      "outputs": []
    },
    {
      "cell_type": "code",
      "source": [
        "summul(2,3,4,'sum')"
      ],
      "metadata": {
        "colab": {
          "base_uri": "https://localhost:8080/"
        },
        "id": "g98_YkpfxapD",
        "outputId": "6db437d9-a766-4fe7-dd22-268ba82d77c1"
      },
      "execution_count": 154,
      "outputs": [
        {
          "output_type": "execute_result",
          "data": {
            "text/plain": [
              "9"
            ]
          },
          "metadata": {},
          "execution_count": 154
        }
      ]
    },
    {
      "cell_type": "code",
      "source": [
        "summul(2,3,4,'mul')"
      ],
      "metadata": {
        "colab": {
          "base_uri": "https://localhost:8080/"
        },
        "id": "Vmgt7GLBxiNf",
        "outputId": "1a57e9e1-b023-4ed4-97c4-49e76748f0c0"
      },
      "execution_count": 155,
      "outputs": [
        {
          "output_type": "execute_result",
          "data": {
            "text/plain": [
              "24"
            ]
          },
          "metadata": {},
          "execution_count": 155
        }
      ]
    },
    {
      "cell_type": "code",
      "source": [
        "5%2"
      ],
      "metadata": {
        "colab": {
          "base_uri": "https://localhost:8080/"
        },
        "id": "NL9zR4eFxl2v",
        "outputId": "c8daebe9-3d05-4b45-ea21-02c0bc66a05b"
      },
      "execution_count": 156,
      "outputs": [
        {
          "output_type": "execute_result",
          "data": {
            "text/plain": [
              "1"
            ]
          },
          "metadata": {},
          "execution_count": 156
        }
      ]
    },
    {
      "cell_type": "code",
      "source": [
        "# python method findevenorodd(45)\n",
        "#Hint : num % 2 == 0 : % Remainder\n",
        "\n",
        "def findevenorodd(num):\n",
        "  if (num % 2 == 0):\n",
        "    print ('even')\n",
        "  if (num % 2 != 0):\n",
        "    print ('odd')\n",
        "\n",
        "findevenorodd(45)"
      ],
      "metadata": {
        "colab": {
          "base_uri": "https://localhost:8080/"
        },
        "id": "FCoGOjEtxtA4",
        "outputId": "fb7d75e3-9be1-4090-fee3-3b324b4f58e9"
      },
      "execution_count": 157,
      "outputs": [
        {
          "output_type": "stream",
          "name": "stdout",
          "text": [
            "odd\n"
          ]
        }
      ]
    },
    {
      "cell_type": "code",
      "source": [
        "def findevenorodd(num):\n",
        "  if (num % 2 == 0):\n",
        "    result = 'even'\n",
        "  if (num % 2 != 0):\n",
        "    result = 'odd'\n",
        "  return result\n",
        "\n",
        "findevenorodd(444)"
      ],
      "metadata": {
        "colab": {
          "base_uri": "https://localhost:8080/",
          "height": 35
        },
        "id": "COBU3cCax5Ra",
        "outputId": "71a8d77f-9ec2-43b9-afb4-999446445fe5"
      },
      "execution_count": 158,
      "outputs": [
        {
          "output_type": "execute_result",
          "data": {
            "text/plain": [
              "'even'"
            ],
            "application/vnd.google.colaboratory.intrinsic+json": {
              "type": "string"
            }
          },
          "metadata": {},
          "execution_count": 158
        }
      ]
    },
    {
      "cell_type": "markdown",
      "source": [
        "#Data types in python"
      ],
      "metadata": {
        "id": "KVNDKu2fyAYi"
      }
    },
    {
      "cell_type": "code",
      "source": [
        "'''\n",
        "Text type : str\n",
        "NUmeric ical TYpes : int, float, comple\n",
        "Sequene datatypes : list, tuple and range\n",
        "Mapping TYpe : dict\n",
        "settypes : set\n",
        "Boolean Type:\tbool\n",
        "Binary Types:\tbytes, bytearray, memoryview\n",
        "None Type:\tNoneType\n",
        "'''\n",
        "x = 'Dog killed a cat'\n",
        "y = 64\n",
        "z = 75.432\n",
        "m1 = ['aijigr','fhuwhebr','fg'] # list needs to be in square bracket, list can take only strings, only numbers or both\n",
        "m2 = [4,5.67,5.21]\n",
        "m3 = ['deesg',4.4,'gregr']\n",
        "n1 = ()\n",
        "l1 = [i for i in range(10)]\n",
        "l2 = [i for i in range(0,5)] #(start position, end_position)\n",
        "l3 = [i for i in range(0,5,2)]"
      ],
      "metadata": {
        "id": "WRMXNrWgyF3z"
      },
      "execution_count": 159,
      "outputs": []
    },
    {
      "cell_type": "code",
      "source": [
        "l3 = [i for i in range(0,5,3)]\n",
        "l3"
      ],
      "metadata": {
        "colab": {
          "base_uri": "https://localhost:8080/"
        },
        "id": "WJaGdphMIZXl",
        "outputId": "2dd11194-6271-4f1f-c4a0-95a907f87903"
      },
      "execution_count": 160,
      "outputs": [
        {
          "output_type": "execute_result",
          "data": {
            "text/plain": [
              "[0, 3]"
            ]
          },
          "metadata": {},
          "execution_count": 160
        }
      ]
    },
    {
      "cell_type": "code",
      "source": [
        "l1"
      ],
      "metadata": {
        "colab": {
          "base_uri": "https://localhost:8080/"
        },
        "id": "K5ANJ3hayKeb",
        "outputId": "2cfc4a04-9acb-4e8a-c25e-5f072a283090"
      },
      "execution_count": 161,
      "outputs": [
        {
          "output_type": "execute_result",
          "data": {
            "text/plain": [
              "[0, 1, 2, 3, 4, 5, 6, 7, 8, 9]"
            ]
          },
          "metadata": {},
          "execution_count": 161
        }
      ]
    },
    {
      "cell_type": "code",
      "source": [
        "l2"
      ],
      "metadata": {
        "colab": {
          "base_uri": "https://localhost:8080/"
        },
        "id": "HJwJeLg_yT3r",
        "outputId": "c9eb2131-159c-4ae5-f9d6-42b96303ad8e"
      },
      "execution_count": 162,
      "outputs": [
        {
          "output_type": "execute_result",
          "data": {
            "text/plain": [
              "[0, 1, 2, 3, 4]"
            ]
          },
          "metadata": {},
          "execution_count": 162
        }
      ]
    },
    {
      "cell_type": "code",
      "source": [
        "l3"
      ],
      "metadata": {
        "colab": {
          "base_uri": "https://localhost:8080/"
        },
        "id": "YYplO3IfyXjl",
        "outputId": "89e14c87-0a31-4095-8dd9-bc5c23e2cc9f"
      },
      "execution_count": 163,
      "outputs": [
        {
          "output_type": "execute_result",
          "data": {
            "text/plain": [
              "[0, 3]"
            ]
          },
          "metadata": {},
          "execution_count": 163
        }
      ]
    },
    {
      "cell_type": "code",
      "source": [
        "print(type(x))\n",
        "print(type(y))\n",
        "print(type(z))"
      ],
      "metadata": {
        "colab": {
          "base_uri": "https://localhost:8080/"
        },
        "id": "PSJiJtL-yZ1I",
        "outputId": "1c287ed6-e65a-40da-f12e-40aeef986352"
      },
      "execution_count": 164,
      "outputs": [
        {
          "output_type": "stream",
          "name": "stdout",
          "text": [
            "<class 'str'>\n",
            "<class 'int'>\n",
            "<class 'float'>\n"
          ]
        }
      ]
    },
    {
      "cell_type": "code",
      "source": [
        "l2 = [i for i in range(20,40)]\n",
        "l2 = [i for i in range(20,40,4)]"
      ],
      "metadata": {
        "id": "UbUZJodQyeyB"
      },
      "execution_count": 165,
      "outputs": []
    },
    {
      "cell_type": "code",
      "source": [
        "[i for i in range(20,40,4)]"
      ],
      "metadata": {
        "colab": {
          "base_uri": "https://localhost:8080/"
        },
        "id": "oPfij5yoLjjG",
        "outputId": "91202d4d-e646-4bf2-be01-c658ea0f89ab"
      },
      "execution_count": 166,
      "outputs": [
        {
          "output_type": "execute_result",
          "data": {
            "text/plain": [
              "[20, 24, 28, 32, 36]"
            ]
          },
          "metadata": {},
          "execution_count": 166
        }
      ]
    },
    {
      "cell_type": "code",
      "source": [
        "x=1\n",
        "y=2.8"
      ],
      "metadata": {
        "id": "wBT-edBILqCP"
      },
      "execution_count": 167,
      "outputs": []
    },
    {
      "cell_type": "code",
      "source": [
        "type(x)"
      ],
      "metadata": {
        "colab": {
          "base_uri": "https://localhost:8080/"
        },
        "id": "YyZD8lf5MB_5",
        "outputId": "93da5212-e7b8-41f2-b762-4e139434bd32"
      },
      "execution_count": 168,
      "outputs": [
        {
          "output_type": "execute_result",
          "data": {
            "text/plain": [
              "int"
            ]
          },
          "metadata": {},
          "execution_count": 168
        }
      ]
    },
    {
      "cell_type": "code",
      "source": [
        "type(y)"
      ],
      "metadata": {
        "colab": {
          "base_uri": "https://localhost:8080/"
        },
        "id": "_kqDrJwXyyDK",
        "outputId": "5c133d07-e10a-4e21-c014-dfc40e159b8e"
      },
      "execution_count": 169,
      "outputs": [
        {
          "output_type": "execute_result",
          "data": {
            "text/plain": [
              "float"
            ]
          },
          "metadata": {},
          "execution_count": 169
        }
      ]
    },
    {
      "cell_type": "code",
      "source": [
        "a=float(x)\n",
        "b=int(y)"
      ],
      "metadata": {
        "id": "6gPgrTHrMYQN"
      },
      "execution_count": 170,
      "outputs": []
    },
    {
      "cell_type": "code",
      "source": [
        "import random #import is a keyword to call the libraries into your code\n",
        "random.randrange(1,10)"
      ],
      "metadata": {
        "colab": {
          "base_uri": "https://localhost:8080/"
        },
        "id": "lsUVjEOVMe3c",
        "outputId": "1b2f5788-371f-47e4-d979-159ab42d03d3"
      },
      "execution_count": 171,
      "outputs": [
        {
          "output_type": "execute_result",
          "data": {
            "text/plain": [
              "1"
            ]
          },
          "metadata": {},
          "execution_count": 171
        }
      ]
    },
    {
      "cell_type": "code",
      "source": [
        "x=\"1\" #str(1)"
      ],
      "metadata": {
        "id": "nm3Q7Z4gM78H"
      },
      "execution_count": 172,
      "outputs": []
    },
    {
      "cell_type": "code",
      "source": [
        "float(x)"
      ],
      "metadata": {
        "colab": {
          "base_uri": "https://localhost:8080/"
        },
        "id": "RutElEUUNLQd",
        "outputId": "816b60e4-02c7-4dd4-f971-589d1b7aa4c5"
      },
      "execution_count": 173,
      "outputs": [
        {
          "output_type": "execute_result",
          "data": {
            "text/plain": [
              "1.0"
            ]
          },
          "metadata": {},
          "execution_count": 173
        }
      ]
    },
    {
      "cell_type": "markdown",
      "source": [
        "#strings"
      ],
      "metadata": {
        "id": "9EgEAXItNhdj"
      }
    },
    {
      "cell_type": "code",
      "source": [
        "x=\"HI\"\n",
        "print(x)"
      ],
      "metadata": {
        "colab": {
          "base_uri": "https://localhost:8080/"
        },
        "id": "qqcw4LdzNj8R",
        "outputId": "6e6916f8-2c4f-4990-e523-37aa2ec3f3ac"
      },
      "execution_count": 174,
      "outputs": [
        {
          "output_type": "stream",
          "name": "stdout",
          "text": [
            "HI\n"
          ]
        }
      ]
    },
    {
      "cell_type": "code",
      "source": [
        "b='''\n",
        "This is a datascience course\n",
        "we are learning python\n",
        "'''\n",
        "\n",
        "print(b)"
      ],
      "metadata": {
        "colab": {
          "base_uri": "https://localhost:8080/"
        },
        "id": "3CTPISASNssm",
        "outputId": "14a68129-f853-48bd-8c57-8d0cc3e540a8"
      },
      "execution_count": 175,
      "outputs": [
        {
          "output_type": "stream",
          "name": "stdout",
          "text": [
            "\n",
            "This is a datascience course\n",
            "we are learning python\n",
            "\n"
          ]
        }
      ]
    },
    {
      "cell_type": "code",
      "source": [
        "a= 'Hello computer'\n",
        "a[0]"
      ],
      "metadata": {
        "colab": {
          "base_uri": "https://localhost:8080/",
          "height": 35
        },
        "id": "eavVu4R6OFAD",
        "outputId": "3eb34960-6347-4fde-c10f-7fe1b95c6ba7"
      },
      "execution_count": 176,
      "outputs": [
        {
          "output_type": "execute_result",
          "data": {
            "text/plain": [
              "'H'"
            ],
            "application/vnd.google.colaboratory.intrinsic+json": {
              "type": "string"
            }
          },
          "metadata": {},
          "execution_count": 176
        }
      ]
    },
    {
      "cell_type": "code",
      "source": [
        "\n",
        "len(a)"
      ],
      "metadata": {
        "colab": {
          "base_uri": "https://localhost:8080/"
        },
        "id": "W3glXwzGOXFE",
        "outputId": "acff9d02-d6cf-40fc-dabb-675236913d89"
      },
      "execution_count": 177,
      "outputs": [
        {
          "output_type": "execute_result",
          "data": {
            "text/plain": [
              "14"
            ]
          },
          "metadata": {},
          "execution_count": 177
        }
      ]
    },
    {
      "cell_type": "code",
      "source": [
        "for i in a:\n",
        "  print(i)"
      ],
      "metadata": {
        "colab": {
          "base_uri": "https://localhost:8080/"
        },
        "id": "iCl6NZO5ObSH",
        "outputId": "b5744278-1d8c-425b-c766-a2261529cd5a"
      },
      "execution_count": 178,
      "outputs": [
        {
          "output_type": "stream",
          "name": "stdout",
          "text": [
            "H\n",
            "e\n",
            "l\n",
            "l\n",
            "o\n",
            " \n",
            "c\n",
            "o\n",
            "m\n",
            "p\n",
            "u\n",
            "t\n",
            "e\n",
            "r\n"
          ]
        }
      ]
    },
    {
      "cell_type": "code",
      "source": [
        "for i in range(0,len(a)):\n",
        "  print(a[i])"
      ],
      "metadata": {
        "colab": {
          "base_uri": "https://localhost:8080/"
        },
        "id": "_Yx5hnjuOkhK",
        "outputId": "12d51eed-096e-493e-864f-7d6f80d4a1b0"
      },
      "execution_count": 179,
      "outputs": [
        {
          "output_type": "stream",
          "name": "stdout",
          "text": [
            "H\n",
            "e\n",
            "l\n",
            "l\n",
            "o\n",
            " \n",
            "c\n",
            "o\n",
            "m\n",
            "p\n",
            "u\n",
            "t\n",
            "e\n",
            "r\n"
          ]
        }
      ]
    },
    {
      "cell_type": "code",
      "source": [
        "a.split(' ')"
      ],
      "metadata": {
        "colab": {
          "base_uri": "https://localhost:8080/"
        },
        "id": "AcTOeroQO55w",
        "outputId": "20103528-37ed-4bcc-d6d4-6b090b523f34"
      },
      "execution_count": 180,
      "outputs": [
        {
          "output_type": "execute_result",
          "data": {
            "text/plain": [
              "['Hello', 'computer']"
            ]
          },
          "metadata": {},
          "execution_count": 180
        }
      ]
    },
    {
      "cell_type": "code",
      "source": [
        "str='my name is john'\n",
        "print(str.split(' '))"
      ],
      "metadata": {
        "colab": {
          "base_uri": "https://localhost:8080/"
        },
        "id": "LRQKXLPdPJc1",
        "outputId": "40126521-c0c1-46ef-bab3-66c3b8107365"
      },
      "execution_count": 181,
      "outputs": [
        {
          "output_type": "stream",
          "name": "stdout",
          "text": [
            "['my', 'name', 'is', 'john']\n"
          ]
        }
      ]
    },
    {
      "cell_type": "code",
      "source": [
        "str1 = \"this is a basic class of python\"\n",
        "print(\"class\" in str1)"
      ],
      "metadata": {
        "colab": {
          "base_uri": "https://localhost:8080/"
        },
        "id": "tf1BeFqqPtst",
        "outputId": "56776023-6948-42e5-af6c-13adf05c06a6"
      },
      "execution_count": 182,
      "outputs": [
        {
          "output_type": "stream",
          "name": "stdout",
          "text": [
            "True\n"
          ]
        }
      ]
    },
    {
      "cell_type": "code",
      "source": [
        "str1 = \"this a basic class of python\"\n",
        "if \"class\" in str1:\n",
        "  print(\"True\")\n",
        "else:\n",
        "  print(\"False\")"
      ],
      "metadata": {
        "colab": {
          "base_uri": "https://localhost:8080/"
        },
        "id": "SV4NV6SrP8u1",
        "outputId": "85734f28-1b29-48f1-8fea-8a579ca92227"
      },
      "execution_count": 183,
      "outputs": [
        {
          "output_type": "stream",
          "name": "stdout",
          "text": [
            "True\n"
          ]
        }
      ]
    },
    {
      "cell_type": "code",
      "source": [
        "if \"expensive\" in str1:\n",
        "  print(\"True\")\n",
        "else:\n",
        "  print(\"False\")"
      ],
      "metadata": {
        "colab": {
          "base_uri": "https://localhost:8080/"
        },
        "id": "QEnZsWWFQhJU",
        "outputId": "9bf4ef41-32c2-4645-c10d-0225899b2f52"
      },
      "execution_count": 184,
      "outputs": [
        {
          "output_type": "stream",
          "name": "stdout",
          "text": [
            "False\n"
          ]
        }
      ]
    },
    {
      "cell_type": "code",
      "source": [
        "str2 = \"Hello world\"\n",
        "str2[2:5] #always indexing happens in forward direction"
      ],
      "metadata": {
        "colab": {
          "base_uri": "https://localhost:8080/",
          "height": 35
        },
        "id": "vgyqjVHBQxeI",
        "outputId": "ccc03fb7-142e-4ec5-9b2a-46d8663053c0"
      },
      "execution_count": 185,
      "outputs": [
        {
          "output_type": "execute_result",
          "data": {
            "text/plain": [
              "'llo'"
            ],
            "application/vnd.google.colaboratory.intrinsic+json": {
              "type": "string"
            }
          },
          "metadata": {},
          "execution_count": 185
        }
      ]
    },
    {
      "cell_type": "code",
      "source": [
        "str2[:4]"
      ],
      "metadata": {
        "colab": {
          "base_uri": "https://localhost:8080/",
          "height": 35
        },
        "id": "G9t6CFFyRILj",
        "outputId": "3a659213-3a25-4c18-8570-c61f529de611"
      },
      "execution_count": 186,
      "outputs": [
        {
          "output_type": "execute_result",
          "data": {
            "text/plain": [
              "'Hell'"
            ],
            "application/vnd.google.colaboratory.intrinsic+json": {
              "type": "string"
            }
          },
          "metadata": {},
          "execution_count": 186
        }
      ]
    },
    {
      "cell_type": "code",
      "source": [
        "str2[3:]"
      ],
      "metadata": {
        "id": "NZg8y-eJRWgF",
        "colab": {
          "base_uri": "https://localhost:8080/",
          "height": 35
        },
        "outputId": "871e4239-7d2c-4db2-b3fc-95b2fed6cc93"
      },
      "execution_count": 187,
      "outputs": [
        {
          "output_type": "execute_result",
          "data": {
            "text/plain": [
              "'lo world'"
            ],
            "application/vnd.google.colaboratory.intrinsic+json": {
              "type": "string"
            }
          },
          "metadata": {},
          "execution_count": 187
        }
      ]
    },
    {
      "cell_type": "code",
      "source": [
        "str2[-5:-1]"
      ],
      "metadata": {
        "colab": {
          "base_uri": "https://localhost:8080/",
          "height": 35
        },
        "id": "RFtIJVMORZ-K",
        "outputId": "6d3acf65-167c-4d13-e114-d72c78d2c666"
      },
      "execution_count": 188,
      "outputs": [
        {
          "output_type": "execute_result",
          "data": {
            "text/plain": [
              "'worl'"
            ],
            "application/vnd.google.colaboratory.intrinsic+json": {
              "type": "string"
            }
          },
          "metadata": {},
          "execution_count": 188
        }
      ]
    },
    {
      "cell_type": "code",
      "source": [
        "str3 = \"ram killed ravana\"\n",
        "str3.upper()"
      ],
      "metadata": {
        "colab": {
          "base_uri": "https://localhost:8080/",
          "height": 35
        },
        "id": "duxIz3yMRosX",
        "outputId": "ca782574-6463-46a5-de93-a7babaa04729"
      },
      "execution_count": 189,
      "outputs": [
        {
          "output_type": "execute_result",
          "data": {
            "text/plain": [
              "'RAM KILLED RAVANA'"
            ],
            "application/vnd.google.colaboratory.intrinsic+json": {
              "type": "string"
            }
          },
          "metadata": {},
          "execution_count": 189
        }
      ]
    },
    {
      "cell_type": "code",
      "source": [
        "str3.lower()"
      ],
      "metadata": {
        "colab": {
          "base_uri": "https://localhost:8080/",
          "height": 35
        },
        "id": "-FKZhWQfSLDA",
        "outputId": "6287d256-b461-492b-ba73-5ae9c3d14f41"
      },
      "execution_count": 190,
      "outputs": [
        {
          "output_type": "execute_result",
          "data": {
            "text/plain": [
              "'ram killed ravana'"
            ],
            "application/vnd.google.colaboratory.intrinsic+json": {
              "type": "string"
            }
          },
          "metadata": {},
          "execution_count": 190
        }
      ]
    },
    {
      "cell_type": "code",
      "source": [
        "str3.replace(\"ram\",\"king of ayodhya\")"
      ],
      "metadata": {
        "colab": {
          "base_uri": "https://localhost:8080/",
          "height": 35
        },
        "id": "nPUrbALoSKu2",
        "outputId": "1c5e21ec-c008-4bea-dde1-d6b3c7fd5d21"
      },
      "execution_count": 191,
      "outputs": [
        {
          "output_type": "execute_result",
          "data": {
            "text/plain": [
              "'king of ayodhya killed ravana'"
            ],
            "application/vnd.google.colaboratory.intrinsic+json": {
              "type": "string"
            }
          },
          "metadata": {},
          "execution_count": 191
        }
      ]
    },
    {
      "cell_type": "code",
      "source": [
        "a=\"Hello\"\n",
        "b=\"world\"\n",
        "a+b"
      ],
      "metadata": {
        "colab": {
          "base_uri": "https://localhost:8080/",
          "height": 35
        },
        "id": "sPA6due8Sa5M",
        "outputId": "11d2909c-e513-4562-8e68-12b67fd4b4eb"
      },
      "execution_count": 192,
      "outputs": [
        {
          "output_type": "execute_result",
          "data": {
            "text/plain": [
              "'Helloworld'"
            ],
            "application/vnd.google.colaboratory.intrinsic+json": {
              "type": "string"
            }
          },
          "metadata": {},
          "execution_count": 192
        }
      ]
    },
    {
      "cell_type": "code",
      "source": [
        "a+ ' ' +b"
      ],
      "metadata": {
        "colab": {
          "base_uri": "https://localhost:8080/",
          "height": 35
        },
        "id": "ubfpA_IkThnz",
        "outputId": "06ac6979-1c04-4f90-f045-0c5284f94c28"
      },
      "execution_count": 193,
      "outputs": [
        {
          "output_type": "execute_result",
          "data": {
            "text/plain": [
              "'Hello world'"
            ],
            "application/vnd.google.colaboratory.intrinsic+json": {
              "type": "string"
            }
          },
          "metadata": {},
          "execution_count": 193
        }
      ]
    },
    {
      "cell_type": "markdown",
      "source": [
        "#Boolean operators"
      ],
      "metadata": {
        "id": "hpARRjM_UYfO"
      }
    },
    {
      "cell_type": "code",
      "source": [
        "print(10>5)"
      ],
      "metadata": {
        "colab": {
          "base_uri": "https://localhost:8080/"
        },
        "id": "6rB1lLs_UcJZ",
        "outputId": "dea5c7aa-fc97-4211-83c4-9ea42fdd4f9e"
      },
      "execution_count": 194,
      "outputs": [
        {
          "output_type": "stream",
          "name": "stdout",
          "text": [
            "True\n"
          ]
        }
      ]
    },
    {
      "cell_type": "code",
      "source": [
        "print(5==9)"
      ],
      "metadata": {
        "colab": {
          "base_uri": "https://localhost:8080/"
        },
        "id": "SpZyY1OpUiLQ",
        "outputId": "422792c8-1701-4f5d-c977-5cb69c0f4a93"
      },
      "execution_count": 195,
      "outputs": [
        {
          "output_type": "stream",
          "name": "stdout",
          "text": [
            "False\n"
          ]
        }
      ]
    },
    {
      "cell_type": "code",
      "source": [
        "a=200\n",
        "b=13\n",
        "if b>a:\n",
        "  print(\"Hi\")\n",
        "else:\n",
        "  print(\"Hello\")"
      ],
      "metadata": {
        "colab": {
          "base_uri": "https://localhost:8080/"
        },
        "id": "4uwceCa0UmO1",
        "outputId": "15f2c53c-0b9d-406b-d51c-f78097ed041b"
      },
      "execution_count": 196,
      "outputs": [
        {
          "output_type": "stream",
          "name": "stdout",
          "text": [
            "Hello\n"
          ]
        }
      ]
    },
    {
      "cell_type": "code",
      "source": [
        "def evenodd(x):\n",
        "  for i in x:\n",
        "\n",
        "    if i%2==0:\n",
        "      print(i)\n",
        "li = [i for i in range(0,10)]\n",
        "evenodd(9)"
      ],
      "metadata": {
        "id": "ksm0S8X5VaxH",
        "colab": {
          "base_uri": "https://localhost:8080/",
          "height": 331
        },
        "outputId": "94a8e7f0-8d9f-4b17-9b8d-acae37b15c61"
      },
      "execution_count": 197,
      "outputs": [
        {
          "output_type": "error",
          "ename": "TypeError",
          "evalue": "ignored",
          "traceback": [
            "\u001b[0;31m---------------------------------------------------------------------------\u001b[0m",
            "\u001b[0;31mTypeError\u001b[0m                                 Traceback (most recent call last)",
            "\u001b[0;32m<ipython-input-197-606d78b4100a>\u001b[0m in \u001b[0;36m<cell line: 7>\u001b[0;34m()\u001b[0m\n\u001b[1;32m      5\u001b[0m       \u001b[0mprint\u001b[0m\u001b[0;34m(\u001b[0m\u001b[0mi\u001b[0m\u001b[0;34m)\u001b[0m\u001b[0;34m\u001b[0m\u001b[0;34m\u001b[0m\u001b[0m\n\u001b[1;32m      6\u001b[0m \u001b[0mli\u001b[0m \u001b[0;34m=\u001b[0m \u001b[0;34m[\u001b[0m\u001b[0mi\u001b[0m \u001b[0;32mfor\u001b[0m \u001b[0mi\u001b[0m \u001b[0;32min\u001b[0m \u001b[0mrange\u001b[0m\u001b[0;34m(\u001b[0m\u001b[0;36m0\u001b[0m\u001b[0;34m,\u001b[0m\u001b[0;36m10\u001b[0m\u001b[0;34m)\u001b[0m\u001b[0;34m]\u001b[0m\u001b[0;34m\u001b[0m\u001b[0;34m\u001b[0m\u001b[0m\n\u001b[0;32m----> 7\u001b[0;31m \u001b[0mevenodd\u001b[0m\u001b[0;34m(\u001b[0m\u001b[0;36m9\u001b[0m\u001b[0;34m)\u001b[0m\u001b[0;34m\u001b[0m\u001b[0;34m\u001b[0m\u001b[0m\n\u001b[0m",
            "\u001b[0;32m<ipython-input-197-606d78b4100a>\u001b[0m in \u001b[0;36mevenodd\u001b[0;34m(x)\u001b[0m\n\u001b[1;32m      1\u001b[0m \u001b[0;32mdef\u001b[0m \u001b[0mevenodd\u001b[0m\u001b[0;34m(\u001b[0m\u001b[0mx\u001b[0m\u001b[0;34m)\u001b[0m\u001b[0;34m:\u001b[0m\u001b[0;34m\u001b[0m\u001b[0;34m\u001b[0m\u001b[0m\n\u001b[0;32m----> 2\u001b[0;31m   \u001b[0;32mfor\u001b[0m \u001b[0mi\u001b[0m \u001b[0;32min\u001b[0m \u001b[0mx\u001b[0m\u001b[0;34m:\u001b[0m\u001b[0;34m\u001b[0m\u001b[0;34m\u001b[0m\u001b[0m\n\u001b[0m\u001b[1;32m      3\u001b[0m \u001b[0;34m\u001b[0m\u001b[0m\n\u001b[1;32m      4\u001b[0m     \u001b[0;32mif\u001b[0m \u001b[0mi\u001b[0m\u001b[0;34m%\u001b[0m\u001b[0;36m2\u001b[0m\u001b[0;34m==\u001b[0m\u001b[0;36m0\u001b[0m\u001b[0;34m:\u001b[0m\u001b[0;34m\u001b[0m\u001b[0;34m\u001b[0m\u001b[0m\n\u001b[1;32m      5\u001b[0m       \u001b[0mprint\u001b[0m\u001b[0;34m(\u001b[0m\u001b[0mi\u001b[0m\u001b[0;34m)\u001b[0m\u001b[0;34m\u001b[0m\u001b[0;34m\u001b[0m\u001b[0m\n",
            "\u001b[0;31mTypeError\u001b[0m: 'int' object is not iterable"
          ]
        }
      ]
    },
    {
      "cell_type": "code",
      "source": [
        "l1 = [10,20]"
      ],
      "metadata": {
        "id": "GeNlcF1KXWvm"
      },
      "execution_count": 198,
      "outputs": []
    },
    {
      "cell_type": "code",
      "source": [
        "def mathfunc(a,operation):\n",
        "  if operation == 'addition':\n",
        "    sum = 0\n",
        "    for i in a:\n",
        "      sum= sum+i\n",
        "    return sum\n",
        "  if operation == 'substraction':\n",
        "    sub = a[0]\n",
        "    for i in a[1:]:\n",
        "      sub = sub-i\n",
        "    return sub\n",
        "  if operation == 'Multiplication':\n",
        "    total = 1\n",
        "    for i in a:\n",
        "      total = total*i\n",
        "    return total\n",
        "  if operation == 'Division':\n",
        "    div = a[0]\n",
        "    for i in a[1:]:\n",
        "      div = div/i\n",
        "    return div"
      ],
      "metadata": {
        "id": "oR8FSmDcWTQb"
      },
      "execution_count": 199,
      "outputs": []
    },
    {
      "cell_type": "code",
      "source": [
        "l1 = [10,20]"
      ],
      "metadata": {
        "id": "teXXS_UFYJdA"
      },
      "execution_count": 200,
      "outputs": []
    },
    {
      "cell_type": "code",
      "source": [
        "mathfunc(l1,'addition')"
      ],
      "metadata": {
        "colab": {
          "base_uri": "https://localhost:8080/"
        },
        "id": "IvMuQZ0nYMKi",
        "outputId": "9fc841e7-e138-4bcc-eece-04c4ded9b2ae"
      },
      "execution_count": 201,
      "outputs": [
        {
          "output_type": "execute_result",
          "data": {
            "text/plain": [
              "30"
            ]
          },
          "metadata": {},
          "execution_count": 201
        }
      ]
    },
    {
      "cell_type": "code",
      "source": [
        "mathfunc(l1,'substraction')"
      ],
      "metadata": {
        "colab": {
          "base_uri": "https://localhost:8080/"
        },
        "id": "7J8FUs5VYUix",
        "outputId": "214b858b-5bd2-42d9-8fb2-c3c4ff8fe967"
      },
      "execution_count": 202,
      "outputs": [
        {
          "output_type": "execute_result",
          "data": {
            "text/plain": [
              "-10"
            ]
          },
          "metadata": {},
          "execution_count": 202
        }
      ]
    },
    {
      "cell_type": "code",
      "source": [
        "mathfunc(l1,'Multiplication')"
      ],
      "metadata": {
        "colab": {
          "base_uri": "https://localhost:8080/"
        },
        "id": "ImNGroBFZ_j_",
        "outputId": "c6012f0b-f975-4bdd-8341-00f56b3c1f40"
      },
      "execution_count": 203,
      "outputs": [
        {
          "output_type": "execute_result",
          "data": {
            "text/plain": [
              "200"
            ]
          },
          "metadata": {},
          "execution_count": 203
        }
      ]
    },
    {
      "cell_type": "code",
      "source": [
        "mathfunc(l1,'Division')"
      ],
      "metadata": {
        "colab": {
          "base_uri": "https://localhost:8080/"
        },
        "id": "3IM-F7mcacsK",
        "outputId": "628b72dc-e423-450b-d987-3cc83ff2ca64"
      },
      "execution_count": 204,
      "outputs": [
        {
          "output_type": "execute_result",
          "data": {
            "text/plain": [
              "0.5"
            ]
          },
          "metadata": {},
          "execution_count": 204
        }
      ]
    },
    {
      "cell_type": "code",
      "source": [
        "for i in range(0,21):\n",
        "  if i%2==0:\n",
        "    print(i,'even')\n",
        "  else:\n",
        "    print(i,'odd')"
      ],
      "metadata": {
        "id": "flXDXkEqmBrI",
        "colab": {
          "base_uri": "https://localhost:8080/"
        },
        "outputId": "3a6d9900-530f-4463-b6a5-665da216121f"
      },
      "execution_count": 205,
      "outputs": [
        {
          "output_type": "stream",
          "name": "stdout",
          "text": [
            "0 even\n",
            "1 odd\n",
            "2 even\n",
            "3 odd\n",
            "4 even\n",
            "5 odd\n",
            "6 even\n",
            "7 odd\n",
            "8 even\n",
            "9 odd\n",
            "10 even\n",
            "11 odd\n",
            "12 even\n",
            "13 odd\n",
            "14 even\n",
            "15 odd\n",
            "16 even\n",
            "17 odd\n",
            "18 even\n",
            "19 odd\n",
            "20 even\n"
          ]
        }
      ]
    },
    {
      "cell_type": "markdown",
      "source": [
        "# OPERATORS"
      ],
      "metadata": {
        "id": "-Rsz6sbKiNwV"
      }
    },
    {
      "cell_type": "code",
      "source": [
        "'''\n",
        "Arithmetic operators\n",
        "assignment operators\n",
        "logical operators\n",
        "'''"
      ],
      "metadata": {
        "id": "OCBt11cDiQ0s",
        "colab": {
          "base_uri": "https://localhost:8080/",
          "height": 35
        },
        "outputId": "61922c08-b261-457a-8f89-01ad90cb0717"
      },
      "execution_count": 208,
      "outputs": [
        {
          "output_type": "execute_result",
          "data": {
            "text/plain": [
              "'\\nArithmetic operators\\nassignment operators\\nlogical operators\\n'"
            ],
            "application/vnd.google.colaboratory.intrinsic+json": {
              "type": "string"
            }
          },
          "metadata": {},
          "execution_count": 208
        }
      ]
    },
    {
      "cell_type": "code",
      "source": [
        "a=5\n",
        "b=10"
      ],
      "metadata": {
        "id": "fLv8vmciSO8T"
      },
      "execution_count": 207,
      "outputs": []
    },
    {
      "cell_type": "code",
      "source": [
        "a+b"
      ],
      "metadata": {
        "colab": {
          "base_uri": "https://localhost:8080/"
        },
        "id": "k4cOewnLSQcu",
        "outputId": "552551c3-2904-4d17-d9f5-b0d3529d31b9"
      },
      "execution_count": 209,
      "outputs": [
        {
          "output_type": "execute_result",
          "data": {
            "text/plain": [
              "15"
            ]
          },
          "metadata": {},
          "execution_count": 209
        }
      ]
    },
    {
      "cell_type": "code",
      "source": [
        "a-b"
      ],
      "metadata": {
        "colab": {
          "base_uri": "https://localhost:8080/"
        },
        "id": "F8kSc_6NSexn",
        "outputId": "dbc0e315-d99c-40ea-9537-7113bb2d36d9"
      },
      "execution_count": 210,
      "outputs": [
        {
          "output_type": "execute_result",
          "data": {
            "text/plain": [
              "-5"
            ]
          },
          "metadata": {},
          "execution_count": 210
        }
      ]
    },
    {
      "cell_type": "code",
      "source": [
        "a%b"
      ],
      "metadata": {
        "colab": {
          "base_uri": "https://localhost:8080/"
        },
        "id": "y1q1ulFRouMe",
        "outputId": "c1f165c5-49ed-46c7-e1f5-7ee43ad85fd2"
      },
      "execution_count": 211,
      "outputs": [
        {
          "output_type": "execute_result",
          "data": {
            "text/plain": [
              "5"
            ]
          },
          "metadata": {},
          "execution_count": 211
        }
      ]
    },
    {
      "cell_type": "code",
      "source": [
        "a//b"
      ],
      "metadata": {
        "colab": {
          "base_uri": "https://localhost:8080/"
        },
        "id": "yNLGfLlko2j0",
        "outputId": "87dd1bdf-fe87-4f98-ff1a-11ba655d34ff"
      },
      "execution_count": 212,
      "outputs": [
        {
          "output_type": "execute_result",
          "data": {
            "text/plain": [
              "0"
            ]
          },
          "metadata": {},
          "execution_count": 212
        }
      ]
    },
    {
      "cell_type": "code",
      "source": [
        "x=10\n",
        "y=7"
      ],
      "metadata": {
        "id": "OdwOsi4Kc-7W"
      },
      "execution_count": 213,
      "outputs": []
    },
    {
      "cell_type": "code",
      "source": [
        "# % modulus : gives the reminder of division\n",
        "x%y"
      ],
      "metadata": {
        "colab": {
          "base_uri": "https://localhost:8080/"
        },
        "id": "nb5lc081cqPK",
        "outputId": "ca5e8478-93ad-45b3-96d6-c1497a5153fd"
      },
      "execution_count": 214,
      "outputs": [
        {
          "output_type": "execute_result",
          "data": {
            "text/plain": [
              "3"
            ]
          },
          "metadata": {},
          "execution_count": 214
        }
      ]
    },
    {
      "cell_type": "code",
      "source": [
        "x=7\n",
        "y=3\n",
        "print(x/y)"
      ],
      "metadata": {
        "colab": {
          "base_uri": "https://localhost:8080/"
        },
        "id": "296Wcj3kdK-h",
        "outputId": "378bf31e-8b15-4b3f-cf99-afc7b38538a6"
      },
      "execution_count": 215,
      "outputs": [
        {
          "output_type": "stream",
          "name": "stdout",
          "text": [
            "2.3333333333333335\n"
          ]
        }
      ]
    },
    {
      "cell_type": "code",
      "source": [
        "print(x//y) #perfroms rouning of the quotient"
      ],
      "metadata": {
        "colab": {
          "base_uri": "https://localhost:8080/"
        },
        "id": "MN9BvHdudTVE",
        "outputId": "48c179c8-afaa-4e61-b4ef-d7928089e09e"
      },
      "execution_count": 216,
      "outputs": [
        {
          "output_type": "stream",
          "name": "stdout",
          "text": [
            "2\n"
          ]
        }
      ]
    },
    {
      "cell_type": "code",
      "source": [
        "l1 = [5,7]\n",
        "l1[0]//l1[1]"
      ],
      "metadata": {
        "colab": {
          "base_uri": "https://localhost:8080/"
        },
        "id": "2fQ68t7hdeXO",
        "outputId": "9456b425-f254-4e33-f03c-d0572bb41df6"
      },
      "execution_count": 217,
      "outputs": [
        {
          "output_type": "execute_result",
          "data": {
            "text/plain": [
              "0"
            ]
          },
          "metadata": {},
          "execution_count": 217
        }
      ]
    },
    {
      "cell_type": "code",
      "source": [
        "l1 = [i for i in range(0,10)]\n",
        "l1"
      ],
      "metadata": {
        "colab": {
          "base_uri": "https://localhost:8080/"
        },
        "id": "I8I5InPKdmXr",
        "outputId": "9cca6fc3-4cb0-4afc-e99f-57b6d6e67c64"
      },
      "execution_count": 218,
      "outputs": [
        {
          "output_type": "execute_result",
          "data": {
            "text/plain": [
              "[0, 1, 2, 3, 4, 5, 6, 7, 8, 9]"
            ]
          },
          "metadata": {},
          "execution_count": 218
        }
      ]
    },
    {
      "cell_type": "code",
      "source": [
        "a=list(range(0,10))"
      ],
      "metadata": {
        "id": "zj035JS7ekFG"
      },
      "execution_count": 219,
      "outputs": []
    },
    {
      "cell_type": "code",
      "source": [
        "a"
      ],
      "metadata": {
        "colab": {
          "base_uri": "https://localhost:8080/"
        },
        "id": "yvX7rR57ewLK",
        "outputId": "6e2b78ca-82fd-45a9-b39d-9aa06dcbd8c1"
      },
      "execution_count": 220,
      "outputs": [
        {
          "output_type": "execute_result",
          "data": {
            "text/plain": [
              "[0, 1, 2, 3, 4, 5, 6, 7, 8, 9]"
            ]
          },
          "metadata": {},
          "execution_count": 220
        }
      ]
    },
    {
      "cell_type": "code",
      "source": [
        "total = 1\n",
        "for i in range(0,len(a)):\n",
        "  if i%2==0:\n",
        "    total = total*a[i]"
      ],
      "metadata": {
        "id": "7fE0TTYoe28c"
      },
      "execution_count": 221,
      "outputs": []
    },
    {
      "cell_type": "code",
      "source": [
        "total"
      ],
      "metadata": {
        "colab": {
          "base_uri": "https://localhost:8080/"
        },
        "id": "lNPT_gLrgLmC",
        "outputId": "8c32763d-9f8a-4b8a-de4c-5a4a0c9ec383"
      },
      "execution_count": 222,
      "outputs": [
        {
          "output_type": "execute_result",
          "data": {
            "text/plain": [
              "0"
            ]
          },
          "metadata": {},
          "execution_count": 222
        }
      ]
    },
    {
      "cell_type": "code",
      "source": [
        "total = 1\n",
        "for i in range(0,len(a)):\n",
        "  if i%2!=0:\n",
        "    total = total*a[i]"
      ],
      "metadata": {
        "id": "q7OVcl2QgSrn"
      },
      "execution_count": 223,
      "outputs": []
    },
    {
      "cell_type": "code",
      "source": [
        "total"
      ],
      "metadata": {
        "colab": {
          "base_uri": "https://localhost:8080/"
        },
        "id": "5YYsUOckhCud",
        "outputId": "57fcc3a8-45cb-4ea1-9578-d0df0f7f81ec"
      },
      "execution_count": 224,
      "outputs": [
        {
          "output_type": "execute_result",
          "data": {
            "text/plain": [
              "945"
            ]
          },
          "metadata": {},
          "execution_count": 224
        }
      ]
    },
    {
      "cell_type": "code",
      "source": [
        "l1 = [1,2,3]\n",
        "l1.append(4)\n",
        "print(l1)"
      ],
      "metadata": {
        "colab": {
          "base_uri": "https://localhost:8080/"
        },
        "id": "I4-988DBhGxQ",
        "outputId": "f7000f8a-36b8-4bc5-8bc0-749ff279c14e"
      },
      "execution_count": 225,
      "outputs": [
        {
          "output_type": "stream",
          "name": "stdout",
          "text": [
            "[1, 2, 3, 4]\n"
          ]
        }
      ]
    },
    {
      "cell_type": "code",
      "source": [
        "l2 = [i for i in range(10,20)]"
      ],
      "metadata": {
        "id": "OaVHHTu8iEaS"
      },
      "execution_count": 226,
      "outputs": []
    },
    {
      "cell_type": "code",
      "source": [
        "l2"
      ],
      "metadata": {
        "colab": {
          "base_uri": "https://localhost:8080/"
        },
        "id": "_cC-ULHwjkA1",
        "outputId": "9a8d3696-fe25-457c-aed3-4175fc842b3e"
      },
      "execution_count": 227,
      "outputs": [
        {
          "output_type": "execute_result",
          "data": {
            "text/plain": [
              "[10, 11, 12, 13, 14, 15, 16, 17, 18, 19]"
            ]
          },
          "metadata": {},
          "execution_count": 227
        }
      ]
    },
    {
      "cell_type": "code",
      "source": [
        "for i in l2:\n",
        "  i += 3 # variable = variable + reminder # ASSIGNMENT OPERATOR\n",
        "  print(i)"
      ],
      "metadata": {
        "colab": {
          "base_uri": "https://localhost:8080/"
        },
        "id": "mgUfotorjxfF",
        "outputId": "e73c642a-3c84-49d8-8c92-219dc1d318dd"
      },
      "execution_count": 228,
      "outputs": [
        {
          "output_type": "stream",
          "name": "stdout",
          "text": [
            "13\n",
            "14\n",
            "15\n",
            "16\n",
            "17\n",
            "18\n",
            "19\n",
            "20\n",
            "21\n",
            "22\n"
          ]
        }
      ]
    },
    {
      "cell_type": "code",
      "source": [
        "for i in l2:\n",
        "  i-= 3\n",
        "  print(i)"
      ],
      "metadata": {
        "colab": {
          "base_uri": "https://localhost:8080/"
        },
        "id": "i8J3JQJTkdK8",
        "outputId": "ca1af8ab-de5e-4b51-fc62-7cb30c6283a1"
      },
      "execution_count": 229,
      "outputs": [
        {
          "output_type": "stream",
          "name": "stdout",
          "text": [
            "7\n",
            "8\n",
            "9\n",
            "10\n",
            "11\n",
            "12\n",
            "13\n",
            "14\n",
            "15\n",
            "16\n"
          ]
        }
      ]
    },
    {
      "cell_type": "code",
      "source": [
        "for i in l2:\n",
        "  i*=3\n",
        "  print(i)"
      ],
      "metadata": {
        "colab": {
          "base_uri": "https://localhost:8080/"
        },
        "id": "4reoLnL7kzUH",
        "outputId": "55948564-439d-4121-d84d-937fe77bf345"
      },
      "execution_count": 230,
      "outputs": [
        {
          "output_type": "stream",
          "name": "stdout",
          "text": [
            "30\n",
            "33\n",
            "36\n",
            "39\n",
            "42\n",
            "45\n",
            "48\n",
            "51\n",
            "54\n",
            "57\n"
          ]
        }
      ]
    },
    {
      "cell_type": "code",
      "source": [
        "for i in l2:\n",
        "  i//=3\n",
        "  print(i)"
      ],
      "metadata": {
        "colab": {
          "base_uri": "https://localhost:8080/"
        },
        "id": "kDGXktDolE2D",
        "outputId": "aab09d1d-c7cd-4362-8d80-c1f5c993c339"
      },
      "execution_count": 231,
      "outputs": [
        {
          "output_type": "stream",
          "name": "stdout",
          "text": [
            "3\n",
            "3\n",
            "4\n",
            "4\n",
            "4\n",
            "5\n",
            "5\n",
            "5\n",
            "6\n",
            "6\n"
          ]
        }
      ]
    },
    {
      "cell_type": "code",
      "source": [
        "# Comparision operators\n",
        "\n",
        "x=7\n",
        "y=10\n",
        "\n",
        "x==y"
      ],
      "metadata": {
        "colab": {
          "base_uri": "https://localhost:8080/"
        },
        "id": "7UKBSqLPmbNI",
        "outputId": "9a1053bd-aaee-4e63-98a8-29badb669825"
      },
      "execution_count": 233,
      "outputs": [
        {
          "output_type": "execute_result",
          "data": {
            "text/plain": [
              "False"
            ]
          },
          "metadata": {},
          "execution_count": 233
        }
      ]
    },
    {
      "cell_type": "code",
      "source": [
        "x!=y"
      ],
      "metadata": {
        "colab": {
          "base_uri": "https://localhost:8080/"
        },
        "id": "oLIuuOHunTzo",
        "outputId": "c7ab8efd-3c21-4729-edf8-dce615c6b4ec"
      },
      "execution_count": 234,
      "outputs": [
        {
          "output_type": "execute_result",
          "data": {
            "text/plain": [
              "True"
            ]
          },
          "metadata": {},
          "execution_count": 234
        }
      ]
    },
    {
      "cell_type": "code",
      "source": [
        "x>y"
      ],
      "metadata": {
        "colab": {
          "base_uri": "https://localhost:8080/"
        },
        "id": "JRxDBDMXnYgs",
        "outputId": "3c5e9e20-8717-4853-9432-2805d74cdcfd"
      },
      "execution_count": 235,
      "outputs": [
        {
          "output_type": "execute_result",
          "data": {
            "text/plain": [
              "False"
            ]
          },
          "metadata": {},
          "execution_count": 235
        }
      ]
    },
    {
      "cell_type": "code",
      "source": [
        "x<y"
      ],
      "metadata": {
        "colab": {
          "base_uri": "https://localhost:8080/"
        },
        "id": "qoppJaNKnb52",
        "outputId": "d6111348-1c1a-466c-9d1e-9756d3f5cc5f"
      },
      "execution_count": 236,
      "outputs": [
        {
          "output_type": "execute_result",
          "data": {
            "text/plain": [
              "True"
            ]
          },
          "metadata": {},
          "execution_count": 236
        }
      ]
    },
    {
      "cell_type": "code",
      "source": [
        "x>=y"
      ],
      "metadata": {
        "colab": {
          "base_uri": "https://localhost:8080/"
        },
        "id": "PBWAsud7ndpB",
        "outputId": "c992d118-acb8-4b56-a6cc-b9d23e18b680"
      },
      "execution_count": 237,
      "outputs": [
        {
          "output_type": "execute_result",
          "data": {
            "text/plain": [
              "False"
            ]
          },
          "metadata": {},
          "execution_count": 237
        }
      ]
    },
    {
      "cell_type": "code",
      "source": [
        "x<=y"
      ],
      "metadata": {
        "colab": {
          "base_uri": "https://localhost:8080/"
        },
        "id": "YMVxhk18no-T",
        "outputId": "fe8d9a2a-b2ce-4f4c-e1ad-a054e928a0d9"
      },
      "execution_count": 238,
      "outputs": [
        {
          "output_type": "execute_result",
          "data": {
            "text/plain": [
              "True"
            ]
          },
          "metadata": {},
          "execution_count": 238
        }
      ]
    },
    {
      "cell_type": "code",
      "source": [
        "# Logical operators\n",
        "\n",
        "x=7 # if 7 is b/w 5 and 10\n",
        "(x>5) and (x<10) # and operator both comaparisions have to be true"
      ],
      "metadata": {
        "colab": {
          "base_uri": "https://localhost:8080/"
        },
        "id": "WOb5n446ntzK",
        "outputId": "225e8fdf-7e39-4ba7-bd5d-82a0f056a38c"
      },
      "execution_count": 239,
      "outputs": [
        {
          "output_type": "execute_result",
          "data": {
            "text/plain": [
              "True"
            ]
          },
          "metadata": {},
          "execution_count": 239
        }
      ]
    },
    {
      "cell_type": "code",
      "source": [
        "(x<5) or (x<10)"
      ],
      "metadata": {
        "colab": {
          "base_uri": "https://localhost:8080/"
        },
        "id": "rngx3dNYoGVT",
        "outputId": "85064164-87ba-4c54-c6a0-55cd32cb02a6"
      },
      "execution_count": 240,
      "outputs": [
        {
          "output_type": "execute_result",
          "data": {
            "text/plain": [
              "True"
            ]
          },
          "metadata": {},
          "execution_count": 240
        }
      ]
    },
    {
      "cell_type": "code",
      "source": [
        "x=5\n",
        "(x<10) and (x<0) and (x==5)"
      ],
      "metadata": {
        "colab": {
          "base_uri": "https://localhost:8080/"
        },
        "id": "xbszij_2oka6",
        "outputId": "41c03c73-d06a-402a-8eb7-77c11c7cdc52"
      },
      "execution_count": 241,
      "outputs": [
        {
          "output_type": "execute_result",
          "data": {
            "text/plain": [
              "False"
            ]
          },
          "metadata": {},
          "execution_count": 241
        }
      ]
    },
    {
      "cell_type": "code",
      "source": [
        "(x<10) or (x<0) and (x==5)"
      ],
      "metadata": {
        "colab": {
          "base_uri": "https://localhost:8080/"
        },
        "id": "Im1rg0TdpFR6",
        "outputId": "9298b739-356a-481e-ef68-4654d34dc8b4"
      },
      "execution_count": 242,
      "outputs": [
        {
          "output_type": "execute_result",
          "data": {
            "text/plain": [
              "True"
            ]
          },
          "metadata": {},
          "execution_count": 242
        }
      ]
    },
    {
      "cell_type": "markdown",
      "source": [
        "#LISTS DATATYPE"
      ],
      "metadata": {
        "id": "5dEJPlZ4pUTJ"
      }
    },
    {
      "cell_type": "code",
      "source": [
        "L1 = ['apple','banana','mango']\n",
        " # lists are mutable\n",
        " #it can be either only numbers or only strings or both"
      ],
      "metadata": {
        "id": "XIbzOQAdpZdL"
      },
      "execution_count": 243,
      "outputs": []
    },
    {
      "cell_type": "code",
      "source": [
        "l1 = ('apples','banana','mango')\n",
        "l2 = list(l1) #to convert tuple to list"
      ],
      "metadata": {
        "id": "sHQ2VixtqTIE"
      },
      "execution_count": 244,
      "outputs": []
    },
    {
      "cell_type": "code",
      "source": [
        "l2"
      ],
      "metadata": {
        "colab": {
          "base_uri": "https://localhost:8080/"
        },
        "id": "FsxwB6rYqatR",
        "outputId": "739a758f-1c58-48bf-fbbe-13017936fcae"
      },
      "execution_count": 245,
      "outputs": [
        {
          "output_type": "execute_result",
          "data": {
            "text/plain": [
              "['apples', 'banana', 'mango']"
            ]
          },
          "metadata": {},
          "execution_count": 245
        }
      ]
    },
    {
      "cell_type": "code",
      "source": [
        "l2[2] #to access the elements"
      ],
      "metadata": {
        "colab": {
          "base_uri": "https://localhost:8080/",
          "height": 35
        },
        "id": "gY7lZ6a0qrZC",
        "outputId": "205c8b75-99a3-4fad-db54-d6f779c5a653"
      },
      "execution_count": 246,
      "outputs": [
        {
          "output_type": "execute_result",
          "data": {
            "text/plain": [
              "'mango'"
            ],
            "application/vnd.google.colaboratory.intrinsic+json": {
              "type": "string"
            }
          },
          "metadata": {},
          "execution_count": 246
        }
      ]
    },
    {
      "cell_type": "code",
      "source": [
        "['apples', 'banana', 'mangoes'] #positive indexing[0,1,2] and negative indexing[-3,-2,-1]"
      ],
      "metadata": {
        "id": "BQ86DAygq3xN",
        "colab": {
          "base_uri": "https://localhost:8080/"
        },
        "outputId": "061b7b38-87e6-4d03-e606-03bf04492b2f"
      },
      "execution_count": 247,
      "outputs": [
        {
          "output_type": "execute_result",
          "data": {
            "text/plain": [
              "['apples', 'banana', 'mangoes']"
            ]
          },
          "metadata": {},
          "execution_count": 247
        }
      ]
    },
    {
      "cell_type": "code",
      "source": [
        "list=['apples','banana','orange','mango','kiwi','melon','cherry']"
      ],
      "metadata": {
        "id": "xMl-dHh2rYAM"
      },
      "execution_count": 248,
      "outputs": []
    },
    {
      "cell_type": "code",
      "source": [
        "list[1:5] # start:end it will always print from start till end-1"
      ],
      "metadata": {
        "id": "BIbJmpD_rjpc",
        "colab": {
          "base_uri": "https://localhost:8080/"
        },
        "outputId": "4a0fb5da-1d34-45c5-d212-08dcafac6f07"
      },
      "execution_count": 249,
      "outputs": [
        {
          "output_type": "execute_result",
          "data": {
            "text/plain": [
              "['banana', 'orange', 'mango', 'kiwi']"
            ]
          },
          "metadata": {},
          "execution_count": 249
        }
      ]
    },
    {
      "cell_type": "code",
      "source": [
        "list[0:4] # (startposition,endpoisiton-1)"
      ],
      "metadata": {
        "colab": {
          "base_uri": "https://localhost:8080/"
        },
        "id": "sxzwCiDQS1kd",
        "outputId": "7b364c54-6e12-479b-f2bf-6adb56c3f0e1"
      },
      "execution_count": 250,
      "outputs": [
        {
          "output_type": "execute_result",
          "data": {
            "text/plain": [
              "['apples', 'banana', 'orange', 'mango']"
            ]
          },
          "metadata": {},
          "execution_count": 250
        }
      ]
    },
    {
      "cell_type": "code",
      "source": [
        "list[:4]"
      ],
      "metadata": {
        "colab": {
          "base_uri": "https://localhost:8080/"
        },
        "id": "x7mefW4ES6NK",
        "outputId": "fd91c182-2dd7-4fb8-d256-a97a8c77bec6"
      },
      "execution_count": 251,
      "outputs": [
        {
          "output_type": "execute_result",
          "data": {
            "text/plain": [
              "['apples', 'banana', 'orange', 'mango']"
            ]
          },
          "metadata": {},
          "execution_count": 251
        }
      ]
    },
    {
      "cell_type": "code",
      "source": [
        "list[-3:-1] # print from  -3 to -1-1 =-2"
      ],
      "metadata": {
        "colab": {
          "base_uri": "https://localhost:8080/"
        },
        "id": "eBLVuJZXS-cE",
        "outputId": "24c26ee4-cd91-4b43-efbe-a153182a6f5a"
      },
      "execution_count": 252,
      "outputs": [
        {
          "output_type": "execute_result",
          "data": {
            "text/plain": [
              "['kiwi', 'melon']"
            ]
          },
          "metadata": {},
          "execution_count": 252
        }
      ]
    },
    {
      "cell_type": "code",
      "source": [
        "list = [\"apple\", \"banana\", \"cherry\", \"orange\", \"kiwi\", \"melon\", \"mango\"]\n",
        "\n",
        "if \"cherry\" in list: #question : do it using for loop\n",
        "  print ('hi')"
      ],
      "metadata": {
        "colab": {
          "base_uri": "https://localhost:8080/"
        },
        "id": "muww9gnaTK77",
        "outputId": "0085cc6d-19ee-4f0f-e949-efe52d84fc3d"
      },
      "execution_count": 253,
      "outputs": [
        {
          "output_type": "stream",
          "name": "stdout",
          "text": [
            "hi\n"
          ]
        }
      ]
    },
    {
      "cell_type": "code",
      "source": [
        "list = [\"apple\", \"banana\", \"cherry\", \"orange\", \"kiwi\", \"melon\", \"mango\"]\n",
        "for i in list:\n",
        "  if i in'cherry':\n",
        "    print('hi')"
      ],
      "metadata": {
        "colab": {
          "base_uri": "https://localhost:8080/"
        },
        "id": "qzXtSAwvpMYw",
        "outputId": "b222250e-5330-46da-f31a-0ee92de58484"
      },
      "execution_count": 254,
      "outputs": [
        {
          "output_type": "stream",
          "name": "stdout",
          "text": [
            "hi\n"
          ]
        }
      ]
    },
    {
      "cell_type": "code",
      "source": [
        "#List is a collection which is ordered and changeable. Allows duplicate members.\n",
        "#Tuple is a collection which is ordered and unchangeable. Allows duplicate members.\n",
        "#Set is a collection which is unordered, unchangeable*, and unindexed. No duplicate members.\n",
        "#Dictionary is a collection which is ordered** and changeable. No duplicate members."
      ],
      "metadata": {
        "id": "xIENCYp4v0Cd"
      },
      "execution_count": 255,
      "outputs": []
    },
    {
      "cell_type": "code",
      "source": [
        "#changing items in the list\n",
        "list = [\"apple\", \"banana\", \"cherry\", \"orange\", \"kiwi\", \"melon\", \"mango\"]\n",
        "list[2]='watermelon'"
      ],
      "metadata": {
        "id": "QpH0-bsKkKb4"
      },
      "execution_count": 256,
      "outputs": []
    },
    {
      "cell_type": "code",
      "source": [
        "list"
      ],
      "metadata": {
        "colab": {
          "base_uri": "https://localhost:8080/"
        },
        "id": "_xEuV45dlrwO",
        "outputId": "2d017387-4dc2-4d71-c7c1-81a3647c63e7"
      },
      "execution_count": 257,
      "outputs": [
        {
          "output_type": "execute_result",
          "data": {
            "text/plain": [
              "['apple', 'banana', 'watermelon', 'orange', 'kiwi', 'melon', 'mango']"
            ]
          },
          "metadata": {},
          "execution_count": 257
        }
      ]
    },
    {
      "cell_type": "code",
      "source": [
        "list[1:3]=['onion','tomatoes']"
      ],
      "metadata": {
        "id": "G0b0s8XNluNp"
      },
      "execution_count": 258,
      "outputs": []
    },
    {
      "cell_type": "code",
      "source": [
        "list"
      ],
      "metadata": {
        "colab": {
          "base_uri": "https://localhost:8080/"
        },
        "id": "phwhq6fQmpnu",
        "outputId": "06473508-688e-4d45-a5dc-c03218c8cdb6"
      },
      "execution_count": 259,
      "outputs": [
        {
          "output_type": "execute_result",
          "data": {
            "text/plain": [
              "['apple', 'onion', 'tomatoes', 'orange', 'kiwi', 'melon', 'mango']"
            ]
          },
          "metadata": {},
          "execution_count": 259
        }
      ]
    },
    {
      "cell_type": "code",
      "source": [
        "list = [\"apple\", \"banana\", \"cherry\", \"orange\", \"kiwi\", \"melon\", \"mango\"]\n",
        "list.insert(2,'grapes')\n",
        "list"
      ],
      "metadata": {
        "colab": {
          "base_uri": "https://localhost:8080/"
        },
        "id": "GUwrgfaZm9yz",
        "outputId": "d56b920d-e6ab-4cb1-a973-52e664188947"
      },
      "execution_count": 260,
      "outputs": [
        {
          "output_type": "execute_result",
          "data": {
            "text/plain": [
              "['apple', 'banana', 'grapes', 'cherry', 'orange', 'kiwi', 'melon', 'mango']"
            ]
          },
          "metadata": {},
          "execution_count": 260
        }
      ]
    },
    {
      "cell_type": "code",
      "source": [
        "li = [i for i in range(1,101)]\n",
        "even=[]\n",
        "odd=[]\n",
        "for i in li:\n",
        "  if i%2==0:\n",
        "    even.append(i)\n",
        "  else:\n",
        "    odd.append(i)\n",
        "print(even,odd)"
      ],
      "metadata": {
        "colab": {
          "base_uri": "https://localhost:8080/"
        },
        "id": "sK1mDa7ooG5r",
        "outputId": "8b4cca58-03cf-498e-b761-2272e10cadc2"
      },
      "execution_count": 261,
      "outputs": [
        {
          "output_type": "stream",
          "name": "stdout",
          "text": [
            "[2, 4, 6, 8, 10, 12, 14, 16, 18, 20, 22, 24, 26, 28, 30, 32, 34, 36, 38, 40, 42, 44, 46, 48, 50, 52, 54, 56, 58, 60, 62, 64, 66, 68, 70, 72, 74, 76, 78, 80, 82, 84, 86, 88, 90, 92, 94, 96, 98, 100] [1, 3, 5, 7, 9, 11, 13, 15, 17, 19, 21, 23, 25, 27, 29, 31, 33, 35, 37, 39, 41, 43, 45, 47, 49, 51, 53, 55, 57, 59, 61, 63, 65, 67, 69, 71, 73, 75, 77, 79, 81, 83, 85, 87, 89, 91, 93, 95, 97, 99]\n"
          ]
        }
      ]
    },
    {
      "cell_type": "code",
      "source": [
        "multiply = []\n",
        "for j in l1:\n",
        "  if j % 3 == 0:\n",
        "    multiply.append(j)"
      ],
      "metadata": {
        "id": "heieN2NZDZT5",
        "colab": {
          "base_uri": "https://localhost:8080/",
          "height": 227
        },
        "outputId": "6eeb7f27-a6df-4c4b-cf62-2b810e3ec25e"
      },
      "execution_count": 262,
      "outputs": [
        {
          "output_type": "error",
          "ename": "TypeError",
          "evalue": "ignored",
          "traceback": [
            "\u001b[0;31m---------------------------------------------------------------------------\u001b[0m",
            "\u001b[0;31mTypeError\u001b[0m                                 Traceback (most recent call last)",
            "\u001b[0;32m<ipython-input-262-5b39a9cdb0c2>\u001b[0m in \u001b[0;36m<cell line: 2>\u001b[0;34m()\u001b[0m\n\u001b[1;32m      1\u001b[0m \u001b[0mmultiply\u001b[0m \u001b[0;34m=\u001b[0m \u001b[0;34m[\u001b[0m\u001b[0;34m]\u001b[0m\u001b[0;34m\u001b[0m\u001b[0;34m\u001b[0m\u001b[0m\n\u001b[1;32m      2\u001b[0m \u001b[0;32mfor\u001b[0m \u001b[0mj\u001b[0m \u001b[0;32min\u001b[0m \u001b[0ml1\u001b[0m\u001b[0;34m:\u001b[0m\u001b[0;34m\u001b[0m\u001b[0;34m\u001b[0m\u001b[0m\n\u001b[0;32m----> 3\u001b[0;31m   \u001b[0;32mif\u001b[0m \u001b[0mj\u001b[0m \u001b[0;34m%\u001b[0m \u001b[0;36m3\u001b[0m \u001b[0;34m==\u001b[0m \u001b[0;36m0\u001b[0m\u001b[0;34m:\u001b[0m\u001b[0;34m\u001b[0m\u001b[0;34m\u001b[0m\u001b[0m\n\u001b[0m\u001b[1;32m      4\u001b[0m     \u001b[0mmultiply\u001b[0m\u001b[0;34m.\u001b[0m\u001b[0mappend\u001b[0m\u001b[0;34m(\u001b[0m\u001b[0mj\u001b[0m\u001b[0;34m)\u001b[0m\u001b[0;34m\u001b[0m\u001b[0;34m\u001b[0m\u001b[0m\n",
            "\u001b[0;31mTypeError\u001b[0m: not all arguments converted during string formatting"
          ]
        }
      ]
    },
    {
      "cell_type": "code",
      "source": [
        "l2 = [i for i in range(1,101)]\n",
        "l3=[]\n",
        "mul=1\n",
        "for i in l2:\n",
        "  if i%3==0:\n",
        "    l3.append(i)\n",
        "print(l3)"
      ],
      "metadata": {
        "id": "IQwBfZtLo886"
      },
      "execution_count": null,
      "outputs": []
    },
    {
      "cell_type": "code",
      "source": [
        "list1 = [\"apple\", \"banana\", \"cherry\"]\n",
        "list2 = [\"orange\", \"kiwi\", \"melon\", \"mango\"]\n",
        "list1.extend(list2)\n",
        "print(list1)"
      ],
      "metadata": {
        "id": "sn_Ilb0VqNYz"
      },
      "execution_count": null,
      "outputs": []
    },
    {
      "cell_type": "code",
      "source": [
        "list1 = [\"apple\", \"banana\", \"cherry\"]\n",
        "list2 = [\"orange\", \"kiwi\", \"melon\", \"mango\"]\n",
        "list1[0:1]\n",
        "list2[3:]\n",
        "list1.extend(list2)\n",
        "print(list1)"
      ],
      "metadata": {
        "id": "lorhqMcrs4W_"
      },
      "execution_count": null,
      "outputs": []
    },
    {
      "cell_type": "code",
      "source": [
        "list1 = [\"apple\", \"banana\", \"cherry\"]\n",
        "list2 = [\"orange\", \"kiwi\", \"melon\", \"mango\"]\n",
        "list1[0:1].extend(list2)\n",
        "print(list1)\n"
      ],
      "metadata": {
        "id": "SKwF53R1udGY"
      },
      "execution_count": null,
      "outputs": []
    },
    {
      "cell_type": "code",
      "source": [
        "list = [\"apple\", \"banana\", \"cherry\", \"orange\", \"kiwi\", \"melon\", \"mango\"]\n",
        "list.remove('cherry')\n",
        "list"
      ],
      "metadata": {
        "id": "ERyWA8_juc6o"
      },
      "execution_count": null,
      "outputs": []
    },
    {
      "cell_type": "code",
      "source": [
        "list = [\"apple\", \"banana\", \"cherry\", \"orange\", \"kiwi\", \"melon\", \"mango\"]\n",
        "list.pop(2)"
      ],
      "metadata": {
        "colab": {
          "base_uri": "https://localhost:8080/",
          "height": 35
        },
        "id": "6AY2MbF4uvcx",
        "outputId": "acc962a6-a33c-475a-89f4-f817d7afbe99"
      },
      "execution_count": 263,
      "outputs": [
        {
          "output_type": "execute_result",
          "data": {
            "text/plain": [
              "'cherry'"
            ],
            "application/vnd.google.colaboratory.intrinsic+json": {
              "type": "string"
            }
          },
          "metadata": {},
          "execution_count": 263
        }
      ]
    },
    {
      "cell_type": "code",
      "source": [
        "list = [\"apple\", \"banana\", \"cherry\", \"orange\", \"kiwi\", \"melon\", \"mango\"]\n",
        "for i in list:\n",
        "  if i==i:\n",
        "    print(i)"
      ],
      "metadata": {
        "colab": {
          "base_uri": "https://localhost:8080/"
        },
        "id": "64XIDNndu_DK",
        "outputId": "fc4e84c1-c6be-463d-c4ed-d8bf6f300653"
      },
      "execution_count": 264,
      "outputs": [
        {
          "output_type": "stream",
          "name": "stdout",
          "text": [
            "apple\n",
            "banana\n",
            "cherry\n",
            "orange\n",
            "kiwi\n",
            "melon\n",
            "mango\n"
          ]
        }
      ]
    },
    {
      "cell_type": "code",
      "source": [
        "for i in range(0,len(list)):\n",
        "  print(list[i])"
      ],
      "metadata": {
        "colab": {
          "base_uri": "https://localhost:8080/"
        },
        "id": "5fzFDhEzvjKt",
        "outputId": "5b3ef720-0b8f-4784-bd9f-05966235bd6f"
      },
      "execution_count": 265,
      "outputs": [
        {
          "output_type": "stream",
          "name": "stdout",
          "text": [
            "apple\n",
            "banana\n",
            "cherry\n",
            "orange\n",
            "kiwi\n",
            "melon\n",
            "mango\n"
          ]
        }
      ]
    },
    {
      "cell_type": "code",
      "source": [
        "i=0\n",
        "while(i<len(list)):\n",
        "  print(list[i])\n",
        "  i=i+1"
      ],
      "metadata": {
        "colab": {
          "base_uri": "https://localhost:8080/"
        },
        "id": "WV00KSwGwy6W",
        "outputId": "9c7a320b-895b-4657-801e-869a7ac7e932"
      },
      "execution_count": 266,
      "outputs": [
        {
          "output_type": "stream",
          "name": "stdout",
          "text": [
            "apple\n",
            "banana\n",
            "cherry\n",
            "orange\n",
            "kiwi\n",
            "melon\n",
            "mango\n"
          ]
        }
      ]
    },
    {
      "cell_type": "code",
      "source": [
        "list = [\"apple\", \"banana\", \"cherry\", \"orange\", \"kiwi\", \"melon\", \"mango\"]\n",
        "newlist=[]\n",
        "\n",
        "for i in list:\n",
        "  if 'a' in i:\n",
        "    newlist.append(i)\n",
        "print(newlist)"
      ],
      "metadata": {
        "colab": {
          "base_uri": "https://localhost:8080/"
        },
        "id": "hSdY0_zixUqu",
        "outputId": "1c5d8f4f-6783-4097-d880-c9426845e84a"
      },
      "execution_count": 267,
      "outputs": [
        {
          "output_type": "stream",
          "name": "stdout",
          "text": [
            "['apple', 'banana', 'orange', 'mango']\n"
          ]
        }
      ]
    },
    {
      "cell_type": "code",
      "source": [
        "newlist=[x for x in list if 'a' in x]\n",
        "newlist"
      ],
      "metadata": {
        "colab": {
          "base_uri": "https://localhost:8080/"
        },
        "id": "0p8Mt41TzOUg",
        "outputId": "5461cd3b-cd5a-42a4-dcdf-6dfb6d5608b8"
      },
      "execution_count": 268,
      "outputs": [
        {
          "output_type": "execute_result",
          "data": {
            "text/plain": [
              "['apple', 'banana', 'orange', 'mango']"
            ]
          },
          "metadata": {},
          "execution_count": 268
        }
      ]
    },
    {
      "cell_type": "code",
      "source": [
        "# SORTING\n",
        "\n",
        "li=[100,50,65,82,23]\n",
        "li.sort()\n",
        "li"
      ],
      "metadata": {
        "colab": {
          "base_uri": "https://localhost:8080/"
        },
        "id": "-_47Y48SzmFp",
        "outputId": "a93677ef-38d4-4396-a5ec-344b9174805c"
      },
      "execution_count": 269,
      "outputs": [
        {
          "output_type": "execute_result",
          "data": {
            "text/plain": [
              "[23, 50, 65, 82, 100]"
            ]
          },
          "metadata": {},
          "execution_count": 269
        }
      ]
    },
    {
      "cell_type": "code",
      "source": [
        "li.sort(reverse=True)\n",
        "li"
      ],
      "metadata": {
        "colab": {
          "base_uri": "https://localhost:8080/"
        },
        "id": "M9t3lK9w0Pzo",
        "outputId": "6e847998-41b1-4d6c-a55b-0a7d0008511f"
      },
      "execution_count": 270,
      "outputs": [
        {
          "output_type": "execute_result",
          "data": {
            "text/plain": [
              "[100, 82, 65, 50, 23]"
            ]
          },
          "metadata": {},
          "execution_count": 270
        }
      ]
    },
    {
      "cell_type": "code",
      "source": [
        "def func(n):\n",
        "  i=n-50\n",
        "  if i<0:\n",
        "    i*=-1\n",
        "  return i\n",
        "\n",
        "func(10)"
      ],
      "metadata": {
        "colab": {
          "base_uri": "https://localhost:8080/"
        },
        "id": "oP0AJoLj0Pn-",
        "outputId": "eeaf41f4-3dfe-42ad-8805-dbdd6613abfd"
      },
      "execution_count": 271,
      "outputs": [
        {
          "output_type": "execute_result",
          "data": {
            "text/plain": [
              "40"
            ]
          },
          "metadata": {},
          "execution_count": 271
        }
      ]
    },
    {
      "cell_type": "code",
      "source": [
        "li=[100,50,65,82,23]\n",
        "li.sort(key=func)\n",
        "li"
      ],
      "metadata": {
        "colab": {
          "base_uri": "https://localhost:8080/"
        },
        "id": "M_Nc_Uut1u12",
        "outputId": "52c89f0b-1718-4c6c-af6f-64c6762a6a52"
      },
      "execution_count": 272,
      "outputs": [
        {
          "output_type": "execute_result",
          "data": {
            "text/plain": [
              "[50, 65, 23, 82, 100]"
            ]
          },
          "metadata": {},
          "execution_count": 272
        }
      ]
    },
    {
      "cell_type": "code",
      "source": [
        "'''\n",
        "[50,0,15,32,27]\n",
        "[0,1,2,3,4]\n",
        "Sorted position [1,2,4,3,0]\n",
        "\n",
        "'''"
      ],
      "metadata": {
        "id": "V9qFcWXz2WUT",
        "colab": {
          "base_uri": "https://localhost:8080/",
          "height": 35
        },
        "outputId": "0674da5e-91bc-4a8a-8acd-58a3c50d39ed"
      },
      "execution_count": 273,
      "outputs": [
        {
          "output_type": "execute_result",
          "data": {
            "text/plain": [
              "'\\n[50,0,15,32,27]\\n[0,1,2,3,4]\\nSorted position [1,2,4,3,0]\\n\\n'"
            ],
            "application/vnd.google.colaboratory.intrinsic+json": {
              "type": "string"
            }
          },
          "metadata": {},
          "execution_count": 273
        }
      ]
    },
    {
      "cell_type": "markdown",
      "source": [
        "# Copy lists"
      ],
      "metadata": {
        "id": "pZrIQQYbL8fA"
      }
    },
    {
      "cell_type": "code",
      "source": [
        "list1 = [12,45,67,89]\n",
        "list2=list1.copy()\n",
        "list2"
      ],
      "metadata": {
        "colab": {
          "base_uri": "https://localhost:8080/"
        },
        "id": "bFvweMc9MJBO",
        "outputId": "b0c156bf-c5c7-4297-a448-8e0dfa9f89f1"
      },
      "execution_count": 274,
      "outputs": [
        {
          "output_type": "execute_result",
          "data": {
            "text/plain": [
              "[12, 45, 67, 89]"
            ]
          },
          "metadata": {},
          "execution_count": 274
        }
      ]
    },
    {
      "cell_type": "code",
      "source": [
        "list2[2]=45\n",
        "list2 #these are called objects"
      ],
      "metadata": {
        "colab": {
          "base_uri": "https://localhost:8080/"
        },
        "id": "1uLFj48HMiSV",
        "outputId": "507e392f-f48d-42f6-e0f2-5e54a223df84"
      },
      "execution_count": 275,
      "outputs": [
        {
          "output_type": "execute_result",
          "data": {
            "text/plain": [
              "[12, 45, 45, 89]"
            ]
          },
          "metadata": {},
          "execution_count": 275
        }
      ]
    },
    {
      "cell_type": "code",
      "source": [
        "list1=['a','b','c']\n",
        "list2=[1,2,3]\n",
        "list1 + list2"
      ],
      "metadata": {
        "colab": {
          "base_uri": "https://localhost:8080/"
        },
        "id": "FLH9XnuRM_V5",
        "outputId": "6d961aeb-671e-4d0d-a10f-0816734c1755"
      },
      "execution_count": 276,
      "outputs": [
        {
          "output_type": "execute_result",
          "data": {
            "text/plain": [
              "['a', 'b', 'c', 1, 2, 3]"
            ]
          },
          "metadata": {},
          "execution_count": 276
        }
      ]
    },
    {
      "cell_type": "code",
      "source": [
        "list1=[1,2,3]\n",
        "list2=['a','b','c']\n",
        "for i in list2:\n",
        "  list1.append(i)\n",
        "print(list1)"
      ],
      "metadata": {
        "id": "pgpzvDL5OFNb",
        "colab": {
          "base_uri": "https://localhost:8080/"
        },
        "outputId": "827dbcbe-475d-46d9-b083-d2f49226e0c5"
      },
      "execution_count": 277,
      "outputs": [
        {
          "output_type": "stream",
          "name": "stdout",
          "text": [
            "[1, 2, 3, 'a', 'b', 'c']\n"
          ]
        }
      ]
    },
    {
      "cell_type": "markdown",
      "source": [
        "#TUPLES"
      ],
      "metadata": {
        "id": "2FVeYWD1PA3A"
      }
    },
    {
      "cell_type": "code",
      "source": [
        "tup=('ab')"
      ],
      "metadata": {
        "id": "j2nkbSZiO3Dz"
      },
      "execution_count": 278,
      "outputs": []
    },
    {
      "cell_type": "code",
      "source": [
        "len(tup)"
      ],
      "metadata": {
        "colab": {
          "base_uri": "https://localhost:8080/"
        },
        "id": "ZsYEfTuwPnsF",
        "outputId": "2a615ae1-0463-42d5-f7b6-7b4420541da0"
      },
      "execution_count": 279,
      "outputs": [
        {
          "output_type": "execute_result",
          "data": {
            "text/plain": [
              "2"
            ]
          },
          "metadata": {},
          "execution_count": 279
        }
      ]
    },
    {
      "cell_type": "code",
      "source": [
        "type(tup)"
      ],
      "metadata": {
        "colab": {
          "base_uri": "https://localhost:8080/"
        },
        "id": "7SMNiFzpPwB8",
        "outputId": "db272f74-9700-403e-d605-e9ce9ae7ddad"
      },
      "execution_count": 280,
      "outputs": [
        {
          "output_type": "execute_result",
          "data": {
            "text/plain": [
              "str"
            ]
          },
          "metadata": {},
          "execution_count": 280
        }
      ]
    },
    {
      "cell_type": "code",
      "source": [
        "t=('apple',) #for single elements we use , in tuples\n",
        "print(t)"
      ],
      "metadata": {
        "colab": {
          "base_uri": "https://localhost:8080/"
        },
        "id": "IXmUErJ3P1NC",
        "outputId": "baf0f9fa-efb7-465e-c02d-ce5bbe2904b2"
      },
      "execution_count": 281,
      "outputs": [
        {
          "output_type": "stream",
          "name": "stdout",
          "text": [
            "('apple',)\n"
          ]
        }
      ]
    },
    {
      "cell_type": "code",
      "source": [
        "print(type(t))"
      ],
      "metadata": {
        "colab": {
          "base_uri": "https://localhost:8080/"
        },
        "id": "eKG9jOb2P9M2",
        "outputId": "fa54e59a-1688-4145-8aa5-cf6191fddd5b"
      },
      "execution_count": 282,
      "outputs": [
        {
          "output_type": "stream",
          "name": "stdout",
          "text": [
            "<class 'tuple'>\n"
          ]
        }
      ]
    },
    {
      "cell_type": "code",
      "source": [
        "tup1=(\"apple\",\"banana\",\"orange\")\n",
        "for i in range(0,len(tup1)):\n",
        "  print(tup1[i])"
      ],
      "metadata": {
        "colab": {
          "base_uri": "https://localhost:8080/"
        },
        "id": "r39Z45uqSF9A",
        "outputId": "5800efcb-d190-42a6-d8e9-cbeaf8df4b3e"
      },
      "execution_count": 283,
      "outputs": [
        {
          "output_type": "stream",
          "name": "stdout",
          "text": [
            "apple\n",
            "banana\n",
            "orange\n"
          ]
        }
      ]
    },
    {
      "cell_type": "code",
      "source": [
        "i=0\n",
        "while(i<len(tup1)):\n",
        "  print(tup1[i])\n",
        "  i=i+1"
      ],
      "metadata": {
        "colab": {
          "base_uri": "https://localhost:8080/"
        },
        "id": "VxnUxLVZSxwZ",
        "outputId": "17947311-edb4-4fb5-b992-7f85fbef048e"
      },
      "execution_count": 284,
      "outputs": [
        {
          "output_type": "stream",
          "name": "stdout",
          "text": [
            "apple\n",
            "banana\n",
            "orange\n"
          ]
        }
      ]
    },
    {
      "cell_type": "markdown",
      "source": [
        "SETS"
      ],
      "metadata": {
        "id": "GC59QPSFUTjL"
      }
    },
    {
      "cell_type": "code",
      "source": [
        "# sets are unordered, unchangable,unindexed....    indexing, not ordered, we can not add,append\n",
        "\n",
        "myset={\"cococnut\",\"mango\",\"orange\"}"
      ],
      "metadata": {
        "id": "47uPtXABUKAs"
      },
      "execution_count": 285,
      "outputs": []
    },
    {
      "cell_type": "code",
      "source": [
        "myset={\"cococnut\",\"mango\",\"orange\"} #remove duplicates, unique values\n",
        "mytup=(\"cococnut\",\"mango\",\"orange\")\n",
        "mylist=[\"cococnut\",\"mango\",\"orange\"]\n",
        "\n",
        "print(myset)\n",
        "print(mytup)\n",
        "print(mylist)"
      ],
      "metadata": {
        "colab": {
          "base_uri": "https://localhost:8080/"
        },
        "id": "sW3KytmqU5Y5",
        "outputId": "4aa6df6a-1346-40fa-c686-730b22bf9ce5"
      },
      "execution_count": 286,
      "outputs": [
        {
          "output_type": "stream",
          "name": "stdout",
          "text": [
            "{'orange', 'cococnut', 'mango'}\n",
            "('cococnut', 'mango', 'orange')\n",
            "['cococnut', 'mango', 'orange']\n"
          ]
        }
      ]
    },
    {
      "cell_type": "code",
      "source": [
        "len(myset)"
      ],
      "metadata": {
        "colab": {
          "base_uri": "https://localhost:8080/"
        },
        "id": "ul0WzhXRVdSd",
        "outputId": "388c0b5d-2651-4423-8d6f-1ef1725ab481"
      },
      "execution_count": 287,
      "outputs": [
        {
          "output_type": "execute_result",
          "data": {
            "text/plain": [
              "3"
            ]
          },
          "metadata": {},
          "execution_count": 287
        }
      ]
    },
    {
      "cell_type": "code",
      "source": [
        "type(myset)"
      ],
      "metadata": {
        "colab": {
          "base_uri": "https://localhost:8080/"
        },
        "id": "EFfkDZZLVwlI",
        "outputId": "07ef78f2-dc62-4d11-8fd3-e112807c73ee"
      },
      "execution_count": 288,
      "outputs": [
        {
          "output_type": "execute_result",
          "data": {
            "text/plain": [
              "set"
            ]
          },
          "metadata": {},
          "execution_count": 288
        }
      ]
    },
    {
      "cell_type": "code",
      "source": [
        "thisset = {'apple','banana','orange'}\n",
        "set1={'grapes','melon'}\n",
        "\n",
        "thisset.update(set1)\n",
        "print(thisset)"
      ],
      "metadata": {
        "colab": {
          "base_uri": "https://localhost:8080/"
        },
        "id": "FIT3xvWyVz5D",
        "outputId": "feb38f1c-4767-4931-ba57-a9132de5b16b"
      },
      "execution_count": 289,
      "outputs": [
        {
          "output_type": "stream",
          "name": "stdout",
          "text": [
            "{'orange', 'grapes', 'apple', 'melon', 'banana'}\n"
          ]
        }
      ]
    },
    {
      "cell_type": "markdown",
      "source": [
        "# DICTIONARIES"
      ],
      "metadata": {
        "id": "vIxp98PWWXRf"
      }
    },
    {
      "cell_type": "code",
      "source": [
        "#key : value       structured\n",
        "d1= {\"ram\":10,\"rahul\":20,\"john\":30}\n",
        "d1"
      ],
      "metadata": {
        "colab": {
          "base_uri": "https://localhost:8080/"
        },
        "id": "39uQBF0BWbGV",
        "outputId": "8409388c-f61c-4c69-81db-98ff42a28ac5"
      },
      "execution_count": 290,
      "outputs": [
        {
          "output_type": "execute_result",
          "data": {
            "text/plain": [
              "{'ram': 10, 'rahul': 20, 'john': 30}"
            ]
          },
          "metadata": {},
          "execution_count": 290
        }
      ]
    },
    {
      "cell_type": "code",
      "source": [
        "d1[\"john\"]"
      ],
      "metadata": {
        "colab": {
          "base_uri": "https://localhost:8080/"
        },
        "id": "PpM4s7-2Y2Kj",
        "outputId": "3d2b3ef0-29d6-4179-ee5a-0cc6a0e3b27e"
      },
      "execution_count": 291,
      "outputs": [
        {
          "output_type": "execute_result",
          "data": {
            "text/plain": [
              "30"
            ]
          },
          "metadata": {},
          "execution_count": 291
        }
      ]
    },
    {
      "cell_type": "code",
      "source": [
        "d1= {\"ram\":10,\"rahul\":20,\"john\":30,\"john\":40} #remove duplicate values and print updated value\n",
        "d1"
      ],
      "metadata": {
        "colab": {
          "base_uri": "https://localhost:8080/"
        },
        "id": "kmLvWr_6Y96d",
        "outputId": "f4361759-71c2-43f2-c7bb-5baf38d8e29a"
      },
      "execution_count": 292,
      "outputs": [
        {
          "output_type": "execute_result",
          "data": {
            "text/plain": [
              "{'ram': 10, 'rahul': 20, 'john': 40}"
            ]
          },
          "metadata": {},
          "execution_count": 292
        }
      ]
    },
    {
      "cell_type": "code",
      "source": [
        "len(d1)"
      ],
      "metadata": {
        "colab": {
          "base_uri": "https://localhost:8080/"
        },
        "id": "x1VteEusZi3b",
        "outputId": "394a1867-eef1-4cd0-c234-ef5ffc39d2b3"
      },
      "execution_count": 293,
      "outputs": [
        {
          "output_type": "execute_result",
          "data": {
            "text/plain": [
              "3"
            ]
          },
          "metadata": {},
          "execution_count": 293
        }
      ]
    },
    {
      "cell_type": "code",
      "source": [
        "#keys in the dictionary\n",
        "d1.keys()"
      ],
      "metadata": {
        "colab": {
          "base_uri": "https://localhost:8080/"
        },
        "id": "509kjGXRaacL",
        "outputId": "0044f53e-0a95-4ea2-ec5d-92cdb619f755"
      },
      "execution_count": 294,
      "outputs": [
        {
          "output_type": "execute_result",
          "data": {
            "text/plain": [
              "dict_keys(['ram', 'rahul', 'john'])"
            ]
          },
          "metadata": {},
          "execution_count": 294
        }
      ]
    },
    {
      "cell_type": "code",
      "source": [
        "d1.values()"
      ],
      "metadata": {
        "colab": {
          "base_uri": "https://localhost:8080/"
        },
        "id": "PWPe03DfahUU",
        "outputId": "ff3ad046-e3c0-4bf0-8040-48c4e33269a8"
      },
      "execution_count": 295,
      "outputs": [
        {
          "output_type": "execute_result",
          "data": {
            "text/plain": [
              "dict_values([10, 20, 40])"
            ]
          },
          "metadata": {},
          "execution_count": 295
        }
      ]
    },
    {
      "cell_type": "code",
      "source": [
        "d1= {\"ram\":10,\"rahul\":20,\"john\":30}\n",
        "d1[\"ram\"]"
      ],
      "metadata": {
        "id": "0tGv59zxaliA",
        "colab": {
          "base_uri": "https://localhost:8080/"
        },
        "outputId": "8c257cc8-327a-4f43-f314-a514a75ef679"
      },
      "execution_count": 296,
      "outputs": [
        {
          "output_type": "execute_result",
          "data": {
            "text/plain": [
              "10"
            ]
          },
          "metadata": {},
          "execution_count": 296
        }
      ]
    },
    {
      "cell_type": "code",
      "source": [
        "d1[\"Ram\"] = 10\n",
        "d1"
      ],
      "metadata": {
        "colab": {
          "base_uri": "https://localhost:8080/"
        },
        "id": "3Gew2QDNWrb-",
        "outputId": "57e57a90-3925-412d-a351-d6a6878522d3"
      },
      "execution_count": 297,
      "outputs": [
        {
          "output_type": "execute_result",
          "data": {
            "text/plain": [
              "{'ram': 10, 'rahul': 20, 'john': 30, 'Ram': 10}"
            ]
          },
          "metadata": {},
          "execution_count": 297
        }
      ]
    },
    {
      "cell_type": "code",
      "source": [
        "d1.items()  # returns a tuple of key value pairs"
      ],
      "metadata": {
        "colab": {
          "base_uri": "https://localhost:8080/"
        },
        "id": "DCCK5otQXlc0",
        "outputId": "7fbe4035-478e-40a3-8fad-9d06e6af8f8a"
      },
      "execution_count": 298,
      "outputs": [
        {
          "output_type": "execute_result",
          "data": {
            "text/plain": [
              "dict_items([('ram', 10), ('rahul', 20), ('john', 30), ('Ram', 10)])"
            ]
          },
          "metadata": {},
          "execution_count": 298
        }
      ]
    },
    {
      "cell_type": "code",
      "source": [
        "for k,v in d1.items():\n",
        "  print(k)\n",
        "  print(v)"
      ],
      "metadata": {
        "colab": {
          "base_uri": "https://localhost:8080/"
        },
        "id": "1irnswwZX0SZ",
        "outputId": "df771255-44f7-45e6-81f5-d6d0e9c8d56c"
      },
      "execution_count": 299,
      "outputs": [
        {
          "output_type": "stream",
          "name": "stdout",
          "text": [
            "ram\n",
            "10\n",
            "rahul\n",
            "20\n",
            "john\n",
            "30\n",
            "Ram\n",
            "10\n"
          ]
        }
      ]
    },
    {
      "cell_type": "code",
      "source": [
        "thisdict={\"marks_5_unjects\":[24,68,94,56],\"average\":0,\"rank\":1}"
      ],
      "metadata": {
        "id": "RB0drZc_YIoC"
      },
      "execution_count": 300,
      "outputs": []
    },
    {
      "cell_type": "code",
      "source": [
        "for k,v in thisdict.items():\n",
        "  if k == \"marks_5_unjects\":\n",
        "    sum=0\n",
        "    for i in v:\n",
        "      sum+=i\n",
        "    av = sum/len(v)\n",
        "  if k == \"average\":\n",
        "    thisdict[k] =  av\n",
        "print(thisdict)"
      ],
      "metadata": {
        "colab": {
          "base_uri": "https://localhost:8080/"
        },
        "id": "YJJC5gCqYshB",
        "outputId": "21d86d0f-30ca-43de-8f53-4b701cacb7eb"
      },
      "execution_count": 301,
      "outputs": [
        {
          "output_type": "stream",
          "name": "stdout",
          "text": [
            "{'marks_5_unjects': [24, 68, 94, 56], 'average': 60.5, 'rank': 1}\n"
          ]
        }
      ]
    },
    {
      "cell_type": "code",
      "source": [
        "thisdict[\"height\"]=156\n",
        "thisdict"
      ],
      "metadata": {
        "colab": {
          "base_uri": "https://localhost:8080/"
        },
        "id": "O_-UOKkMat3i",
        "outputId": "4f449447-98f4-4b1b-cc28-34ab88bebc41"
      },
      "execution_count": 302,
      "outputs": [
        {
          "output_type": "execute_result",
          "data": {
            "text/plain": [
              "{'marks_5_unjects': [24, 68, 94, 56],\n",
              " 'average': 60.5,\n",
              " 'rank': 1,\n",
              " 'height': 156}"
            ]
          },
          "metadata": {},
          "execution_count": 302
        }
      ]
    },
    {
      "cell_type": "code",
      "source": [
        "#to remove a key from dictionary\n",
        "thisdict.pop(\"height\")"
      ],
      "metadata": {
        "colab": {
          "base_uri": "https://localhost:8080/"
        },
        "id": "s_sY4-tvbkjN",
        "outputId": "2a5c25b1-1cce-416a-bdf6-bb9ecf43b8f5"
      },
      "execution_count": 303,
      "outputs": [
        {
          "output_type": "execute_result",
          "data": {
            "text/plain": [
              "156"
            ]
          },
          "metadata": {},
          "execution_count": 303
        }
      ]
    },
    {
      "cell_type": "code",
      "source": [
        "thisdict"
      ],
      "metadata": {
        "colab": {
          "base_uri": "https://localhost:8080/"
        },
        "id": "ySO7Kx1sbxZb",
        "outputId": "f5afc46b-1456-485d-a861-c483f9d4f2ae"
      },
      "execution_count": 304,
      "outputs": [
        {
          "output_type": "execute_result",
          "data": {
            "text/plain": [
              "{'marks_5_unjects': [24, 68, 94, 56], 'average': 60.5, 'rank': 1}"
            ]
          },
          "metadata": {},
          "execution_count": 304
        }
      ]
    },
    {
      "cell_type": "code",
      "source": [
        "#variants of for loops in dictionary\n",
        "for x in thisdict:\n",
        "  print(x)"
      ],
      "metadata": {
        "colab": {
          "base_uri": "https://localhost:8080/"
        },
        "id": "eYbood09bzqV",
        "outputId": "52b49e46-a6f2-4ba6-99d6-3f4ff759ea11"
      },
      "execution_count": 305,
      "outputs": [
        {
          "output_type": "stream",
          "name": "stdout",
          "text": [
            "marks_5_unjects\n",
            "average\n",
            "rank\n"
          ]
        }
      ]
    },
    {
      "cell_type": "code",
      "source": [
        "for x in thisdict.keys():\n",
        "  print(x)"
      ],
      "metadata": {
        "colab": {
          "base_uri": "https://localhost:8080/"
        },
        "id": "8V3UyubRcult",
        "outputId": "9805946e-d978-4a2b-e22c-f05d02138706"
      },
      "execution_count": 306,
      "outputs": [
        {
          "output_type": "stream",
          "name": "stdout",
          "text": [
            "marks_5_unjects\n",
            "average\n",
            "rank\n"
          ]
        }
      ]
    },
    {
      "cell_type": "code",
      "source": [
        "for x in thisdict.values():\n",
        "  print(x)"
      ],
      "metadata": {
        "colab": {
          "base_uri": "https://localhost:8080/"
        },
        "id": "sBfi61Zrc3zk",
        "outputId": "4f8df428-d4b2-4c02-eddb-5ed14370f2ba"
      },
      "execution_count": 307,
      "outputs": [
        {
          "output_type": "stream",
          "name": "stdout",
          "text": [
            "[24, 68, 94, 56]\n",
            "60.5\n",
            "1\n"
          ]
        }
      ]
    },
    {
      "cell_type": "code",
      "source": [
        "for x in thisdict.items():\n",
        "  print(x)"
      ],
      "metadata": {
        "colab": {
          "base_uri": "https://localhost:8080/"
        },
        "id": "QdYwSXxec8Qu",
        "outputId": "baf851e3-a877-4ccf-ea94-6f0401d51ffb"
      },
      "execution_count": 308,
      "outputs": [
        {
          "output_type": "stream",
          "name": "stdout",
          "text": [
            "('marks_5_unjects', [24, 68, 94, 56])\n",
            "('average', 60.5)\n",
            "('rank', 1)\n"
          ]
        }
      ]
    },
    {
      "cell_type": "code",
      "source": [
        "friends = {'vijay':{'age':24,'height':157},'ram':{'age':27,'height':158},'john':{'age':22,'height':154}}"
      ],
      "metadata": {
        "id": "w1R_wBF6dEu5"
      },
      "execution_count": 309,
      "outputs": []
    },
    {
      "cell_type": "code",
      "source": [
        "friends"
      ],
      "metadata": {
        "colab": {
          "base_uri": "https://localhost:8080/"
        },
        "id": "-ahs2gjOduhC",
        "outputId": "f461a60c-ee09-496e-9041-e5bc004ca306"
      },
      "execution_count": 310,
      "outputs": [
        {
          "output_type": "execute_result",
          "data": {
            "text/plain": [
              "{'vijay': {'age': 24, 'height': 157},\n",
              " 'ram': {'age': 27, 'height': 158},\n",
              " 'john': {'age': 22, 'height': 154}}"
            ]
          },
          "metadata": {},
          "execution_count": 310
        }
      ]
    },
    {
      "cell_type": "code",
      "source": [
        "friends.keys()"
      ],
      "metadata": {
        "colab": {
          "base_uri": "https://localhost:8080/"
        },
        "id": "U5m7MKKbd29I",
        "outputId": "05062c61-46ba-4de1-c76d-4f2b5242297a"
      },
      "execution_count": 311,
      "outputs": [
        {
          "output_type": "execute_result",
          "data": {
            "text/plain": [
              "dict_keys(['vijay', 'ram', 'john'])"
            ]
          },
          "metadata": {},
          "execution_count": 311
        }
      ]
    },
    {
      "cell_type": "code",
      "source": [
        "friends.values()"
      ],
      "metadata": {
        "colab": {
          "base_uri": "https://localhost:8080/"
        },
        "id": "IWd8YFdreXVX",
        "outputId": "615b11b9-8112-48e6-9bb5-8163ee28a0bd"
      },
      "execution_count": 312,
      "outputs": [
        {
          "output_type": "execute_result",
          "data": {
            "text/plain": [
              "dict_values([{'age': 24, 'height': 157}, {'age': 27, 'height': 158}, {'age': 22, 'height': 154}])"
            ]
          },
          "metadata": {},
          "execution_count": 312
        }
      ]
    },
    {
      "cell_type": "code",
      "source": [
        "friends['vijay']"
      ],
      "metadata": {
        "colab": {
          "base_uri": "https://localhost:8080/"
        },
        "id": "LjMjIB2hedTf",
        "outputId": "3e19eb98-33cf-4459-b479-3695b8d982f6"
      },
      "execution_count": 313,
      "outputs": [
        {
          "output_type": "execute_result",
          "data": {
            "text/plain": [
              "{'age': 24, 'height': 157}"
            ]
          },
          "metadata": {},
          "execution_count": 313
        }
      ]
    },
    {
      "cell_type": "code",
      "source": [
        "friends['vijay']['age']"
      ],
      "metadata": {
        "colab": {
          "base_uri": "https://localhost:8080/"
        },
        "id": "v2b3R37Zeg2v",
        "outputId": "0af9d404-7968-4e57-8d46-3904cd1c1d1b"
      },
      "execution_count": 314,
      "outputs": [
        {
          "output_type": "execute_result",
          "data": {
            "text/plain": [
              "24"
            ]
          },
          "metadata": {},
          "execution_count": 314
        }
      ]
    },
    {
      "cell_type": "markdown",
      "source": [
        "#If_else_condtion"
      ],
      "metadata": {
        "id": "yb6b1EGYes8M"
      }
    },
    {
      "cell_type": "code",
      "source": [
        "a=33\n",
        "b=22\n",
        "if b>a:\n",
        "  print('hi')\n",
        "elif b==a:\n",
        "  print('hello')\n",
        "else:\n",
        "  print('world')"
      ],
      "metadata": {
        "colab": {
          "base_uri": "https://localhost:8080/"
        },
        "id": "ZUPQeE_Jghed",
        "outputId": "05023193-f16b-4a02-d6c5-41a40414e61f"
      },
      "execution_count": 315,
      "outputs": [
        {
          "output_type": "stream",
          "name": "stdout",
          "text": [
            "world\n"
          ]
        }
      ]
    },
    {
      "cell_type": "code",
      "source": [
        "a=200\n",
        "b=33\n",
        "if a>b:\n",
        "  print('a is greater than b')\n",
        "elif a<b:\n",
        "  print('b is less than a')\n",
        "else:\n",
        "  print('a is equal to b')"
      ],
      "metadata": {
        "colab": {
          "base_uri": "https://localhost:8080/"
        },
        "id": "VAKj5UEAgpbk",
        "outputId": "5f4b95e7-1235-4f5b-ff7f-78078b4add1d"
      },
      "execution_count": 316,
      "outputs": [
        {
          "output_type": "stream",
          "name": "stdout",
          "text": [
            "a is greater than b\n"
          ]
        }
      ]
    },
    {
      "cell_type": "code",
      "source": [
        "# short hand notation\n",
        "a=2\n",
        "b=330\n",
        "print(a) if a>b else print(b)"
      ],
      "metadata": {
        "colab": {
          "base_uri": "https://localhost:8080/"
        },
        "id": "-Q92B4juhRLc",
        "outputId": "9369f2db-62fe-4332-8fba-d54ace716b0c"
      },
      "execution_count": 317,
      "outputs": [
        {
          "output_type": "stream",
          "name": "stdout",
          "text": [
            "330\n"
          ]
        }
      ]
    },
    {
      "cell_type": "code",
      "source": [
        "a=530\n",
        "b=55\n",
        "c=500\n",
        "if a>b and a>c:\n",
        "  print('hi')"
      ],
      "metadata": {
        "colab": {
          "base_uri": "https://localhost:8080/"
        },
        "id": "ywWkEBiGiNFm",
        "outputId": "090b44f2-7360-48ad-f1bd-b19ad8cb4aa0"
      },
      "execution_count": 318,
      "outputs": [
        {
          "output_type": "stream",
          "name": "stdout",
          "text": [
            "hi\n"
          ]
        }
      ]
    },
    {
      "cell_type": "code",
      "source": [
        "a=33\n",
        "b=200\n",
        "if not a>b:\n",
        "  print('hi')"
      ],
      "metadata": {
        "colab": {
          "base_uri": "https://localhost:8080/"
        },
        "id": "2IApcWAOi5Mr",
        "outputId": "2dc465f3-ac5b-44b5-c20c-1cf52cbfb6e0"
      },
      "execution_count": 319,
      "outputs": [
        {
          "output_type": "stream",
          "name": "stdout",
          "text": [
            "hi\n"
          ]
        }
      ]
    },
    {
      "cell_type": "code",
      "source": [
        "# Nested if\n",
        "\n",
        "x=15\n",
        "if x>10:\n",
        "  if x>20:\n",
        "    if x>30:\n",
        "      print('hi')\n",
        "  else:\n",
        "    print('hello')"
      ],
      "metadata": {
        "colab": {
          "base_uri": "https://localhost:8080/"
        },
        "id": "-VyQkbzqjb4E",
        "outputId": "3ab9f77b-9411-4d6c-a2a2-8ad13e031d56"
      },
      "execution_count": 320,
      "outputs": [
        {
          "output_type": "stream",
          "name": "stdout",
          "text": [
            "hello\n"
          ]
        }
      ]
    },
    {
      "cell_type": "code",
      "source": [
        "x=15\n",
        "if x>10:\n",
        "  if x>20:\n",
        "    pass\n",
        "  else:\n",
        "    print('hello')\n",
        "    if x>30:\n",
        "      print('hi')"
      ],
      "metadata": {
        "colab": {
          "base_uri": "https://localhost:8080/"
        },
        "id": "qBmtHY8nlIAO",
        "outputId": "e3cb505e-02b4-4647-aa79-17288945e3ec"
      },
      "execution_count": 321,
      "outputs": [
        {
          "output_type": "stream",
          "name": "stdout",
          "text": [
            "hello\n"
          ]
        }
      ]
    },
    {
      "cell_type": "code",
      "source": [
        "dict1={\"ram\":14,\"john\":67,\"ravi\":42,\"vijay\":34}\n",
        "for k,v in dict1.items():\n",
        "  if v>40 and v<80:\n",
        "    print(k)"
      ],
      "metadata": {
        "colab": {
          "base_uri": "https://localhost:8080/"
        },
        "id": "ToM4fMpNlhK7",
        "outputId": "d1a2821b-8bec-4fe8-e767-fdf301c628ac"
      },
      "execution_count": 322,
      "outputs": [
        {
          "output_type": "stream",
          "name": "stdout",
          "text": [
            "john\n",
            "ravi\n"
          ]
        }
      ]
    },
    {
      "cell_type": "code",
      "source": [
        "l1=[i for i in range(1,500)]\n",
        "l2=[i for i in range(501,1000)]\n",
        "\n",
        "dict1={\"range1\":l1,\"range2\":l2}"
      ],
      "metadata": {
        "id": "wlHJZgbMm4Fe"
      },
      "execution_count": 323,
      "outputs": []
    },
    {
      "cell_type": "markdown",
      "source": [
        "#while loop"
      ],
      "metadata": {
        "id": "rL-QivA4pVik"
      }
    },
    {
      "cell_type": "code",
      "source": [
        "i=0\n",
        "while i < 6:\n",
        "  print(i)\n",
        "  i=i+1"
      ],
      "metadata": {
        "colab": {
          "base_uri": "https://localhost:8080/"
        },
        "id": "of-acP77pEoU",
        "outputId": "0f35fb54-0e43-4918-d5ed-d059f2b6f04c"
      },
      "execution_count": 324,
      "outputs": [
        {
          "output_type": "stream",
          "name": "stdout",
          "text": [
            "0\n",
            "1\n",
            "2\n",
            "3\n",
            "4\n",
            "5\n"
          ]
        }
      ]
    },
    {
      "cell_type": "code",
      "source": [
        "i=0\n",
        "while i < 6:\n",
        "  print(i)\n",
        "  if i==3:\n",
        "    break\n",
        "  i=i+1"
      ],
      "metadata": {
        "colab": {
          "base_uri": "https://localhost:8080/"
        },
        "id": "4MeGBfZMqKGq",
        "outputId": "16ef228c-a024-4690-d755-74e6337d00ce"
      },
      "execution_count": 325,
      "outputs": [
        {
          "output_type": "stream",
          "name": "stdout",
          "text": [
            "0\n",
            "1\n",
            "2\n",
            "3\n"
          ]
        }
      ]
    },
    {
      "cell_type": "code",
      "source": [
        "i=0\n",
        "while i < 6:\n",
        "  print(i)\n",
        "  i+=1\n",
        "  if i==3:\n",
        "    continue #exit"
      ],
      "metadata": {
        "colab": {
          "base_uri": "https://localhost:8080/"
        },
        "id": "PEJg3dAAq7cg",
        "outputId": "f5b36964-f3b3-433f-b5b1-c3065f6c140e"
      },
      "execution_count": 326,
      "outputs": [
        {
          "output_type": "stream",
          "name": "stdout",
          "text": [
            "0\n",
            "1\n",
            "2\n",
            "3\n",
            "4\n",
            "5\n"
          ]
        }
      ]
    },
    {
      "cell_type": "code",
      "source": [
        "list=['apple','banana','cherry']\n",
        "for i in list:\n",
        "  if 'banana'in i:\n",
        "    break\n",
        "  else:\n",
        "    print(i)"
      ],
      "metadata": {
        "colab": {
          "base_uri": "https://localhost:8080/"
        },
        "id": "X16YLxkvs9BR",
        "outputId": "c743557a-3f27-4567-9765-d5bbb7ea1042"
      },
      "execution_count": 327,
      "outputs": [
        {
          "output_type": "stream",
          "name": "stdout",
          "text": [
            "apple\n"
          ]
        }
      ]
    },
    {
      "cell_type": "code",
      "source": [
        "l1=[i for i in range(0,100,3)]\n",
        "print(l1)"
      ],
      "metadata": {
        "colab": {
          "base_uri": "https://localhost:8080/"
        },
        "id": "kP8Fh74Ftwwh",
        "outputId": "9911c1fa-917c-404c-b16a-8eb518cd5754"
      },
      "execution_count": 328,
      "outputs": [
        {
          "output_type": "stream",
          "name": "stdout",
          "text": [
            "[0, 3, 6, 9, 12, 15, 18, 21, 24, 27, 30, 33, 36, 39, 42, 45, 48, 51, 54, 57, 60, 63, 66, 69, 72, 75, 78, 81, 84, 87, 90, 93, 96, 99]\n"
          ]
        }
      ]
    },
    {
      "cell_type": "code",
      "source": [
        "list=[3,6,9]\n",
        "max(list)"
      ],
      "metadata": {
        "colab": {
          "base_uri": "https://localhost:8080/"
        },
        "id": "DU05u5CKurMD",
        "outputId": "bed8aa71-87a0-4c79-c873-734bb264befa"
      },
      "execution_count": 329,
      "outputs": [
        {
          "output_type": "execute_result",
          "data": {
            "text/plain": [
              "9"
            ]
          },
          "metadata": {},
          "execution_count": 329
        }
      ]
    },
    {
      "cell_type": "code",
      "source": [],
      "metadata": {
        "id": "jLMGcSquBkhD"
      },
      "execution_count": 329,
      "outputs": []
    }
  ]
}